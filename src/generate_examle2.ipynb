{
 "cells": [
  {
   "cell_type": "code",
   "execution_count": 1,
   "metadata": {},
   "outputs": [],
   "source": [
    "import numpy as np\n",
    "from pygel3d import graph\n",
    "from pygel3d import hmesh, gl_display as gl\n",
    "from pygel3d import jupyter_display as jd\n",
    "import trimesh"
   ]
  },
  {
   "cell_type": "code",
   "execution_count": 14,
   "metadata": {},
   "outputs": [
    {
     "name": "stdout",
     "output_type": "stream",
     "text": [
      "(50177, 3)\n",
      "(50176, 2)\n",
      "(50176,)\n"
     ]
    }
   ],
   "source": [
    "points = np.load('../data/points.npy')\n",
    "edges = np.load('../data/edge_array.npy')\n",
    "radii = np.load('../data/edge_radius.npy')\n",
    "\n",
    "print(points.shape)\n",
    "print(edges.shape)\n",
    "print(radii.shape)\n",
    "\n",
    "with open('skeleton.obj', 'w') as f:\n",
    "    # f.write(f'g default\\n')\n",
    "    for point in points:\n",
    "        f.write(f'n {point[0]} {point[1]} {point[2]}\\n')\n",
    "        \n",
    "    # for edge in edges:\n",
    "    #     f.write(f'l {edge[0]+1} {edge[1]+1}\\n')\n",
    "\n",
    "    for i, edge in enumerate(edges):\n",
    "        radius = radii[i]\n",
    "        # f.write(f'c {edge[0]} {edge[1]} {radius}\\n')\n",
    "        f.write(f'c {edge[0]} {edge[1]}\\n')\n",
    "        \n",
    "    f.close()"
   ]
  },
  {
   "cell_type": "code",
   "execution_count": 3,
   "metadata": {},
   "outputs": [],
   "source": [
    "# tri_mesh = trimesh.Trimesh()\n",
    "# tri_mesh.vertices = points\n",
    "# edges_with_radii = []\n",
    "# for i, edge in enumerate(edges):\n",
    "#     vertex1, vertex2 = edge\n",
    "#     radius = radii[i]\n",
    "#     edges_with_radii.append([vertex1, vertex2, radius])\n",
    "\n",
    "# tri_mesh.lines = edges_with_radii\n",
    "\n",
    "# tri_graph = tri_mesh.export(file_type='obj')\n",
    "# tri_mesh.show()\n",
    "\n",
    "\n"
   ]
  },
  {
   "cell_type": "code",
   "execution_count": 15,
   "metadata": {},
   "outputs": [
    {
     "name": "stdout",
     "output_type": "stream",
     "text": [
      "<pygel3d.graph.Graph object at 0x7f50dcadebc0>\n"
     ]
    }
   ],
   "source": [
    "g = graph.load(\"./skeleton.obj\")\n",
    "print(g)\n",
    "# m = graph.to_mesh_cyl(g,1)\n",
    "FEQ_mesh_001 = hmesh.skeleton_to_feq(g, radii/100)\n",
    "FEQ_mesh_01 = hmesh.skeleton_to_feq(g, radii/10)\n",
    "FEQ_mesh_1 = hmesh.skeleton_to_feq(g, radii)\n",
    "# hmesh.loop_split(m)\n",
    "# hmesh.loop_smooth(m)"
   ]
  },
  {
   "cell_type": "code",
   "execution_count": 16,
   "metadata": {},
   "outputs": [],
   "source": [
    "hmesh.save(\"feq_mesh_scale0.01.obj\", FEQ_mesh_001)\n",
    "hmesh.save(\"feq_mesh_scale0.1.obj\", FEQ_mesh_01)\n",
    "hmesh.save(\"feq_mesh_scale1.obj\", FEQ_mesh_1)"
   ]
  },
  {
   "cell_type": "code",
   "execution_count": null,
   "metadata": {},
   "outputs": [],
   "source": []
  },
  {
   "cell_type": "code",
   "execution_count": 5,
   "metadata": {},
   "outputs": [],
   "source": [
    "viewer = gl.Viewer()\n",
    "viewer.display(m)\n"
   ]
  },
  {
   "cell_type": "code",
   "execution_count": 6,
   "metadata": {},
   "outputs": [],
   "source": [
    "del viewer"
   ]
  },
  {
   "cell_type": "code",
   "execution_count": 7,
   "metadata": {},
   "outputs": [],
   "source": [
    "hmesh.save('mesh_example.obj',m)"
   ]
  }
 ],
 "metadata": {
  "kernelspec": {
   "display_name": "cg",
   "language": "python",
   "name": "python3"
  },
  "language_info": {
   "codemirror_mode": {
    "name": "ipython",
    "version": 3
   },
   "file_extension": ".py",
   "mimetype": "text/x-python",
   "name": "python",
   "nbconvert_exporter": "python",
   "pygments_lexer": "ipython3",
   "version": "3.10.12"
  },
  "orig_nbformat": 4
 },
 "nbformat": 4,
 "nbformat_minor": 2
}
