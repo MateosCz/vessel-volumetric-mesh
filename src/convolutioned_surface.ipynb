{
 "cells": [
  {
   "cell_type": "code",
   "execution_count": 178,
   "metadata": {},
   "outputs": [],
   "source": [
    "import pyopenvdb as vdb\n",
    "import numpy as np\n",
    "import matplotlib.pyplot as plt\n",
    "import scipy as sp\n",
    "from IPython.display import clear_output"
   ]
  },
  {
   "cell_type": "code",
   "execution_count": 179,
   "metadata": {},
   "outputs": [
    {
     "name": "stdout",
     "output_type": "stream",
     "text": [
      "[635.43878174 507.36654663 964.96972656]\n"
     ]
    }
   ],
   "source": [
    "points = np.load('../data/points.npy')\n",
    "edges = np.load('../data/edge_array.npy')\n",
    "edge_radius = np.load('../data/edge_radius.npy')/10\n",
    "print(np.max(points, axis=0))\n",
    "std = 5*0.6931"
   ]
  },
  {
   "cell_type": "code",
   "execution_count": 180,
   "metadata": {},
   "outputs": [],
   "source": [
    "def gauss(x):\n",
    "    return np.exp(-x*x*std)\n",
    "\n",
    "\n",
    "# make a gaussian integral table\n",
    "def make_gaussian_integral_table(integral_table_size, x_range):\n",
    "    table = np.zeros(integral_table_size)\n",
    "    integral_table_Xrange = x_range\n",
    "    integral_table_scale = integral_table_size/integral_table_Xrange\n",
    "    scale = 0.5/(np.sqrt(np.pi/std)*integral_table_scale)\n",
    "    value1 = gauss(0)\n",
    "    table[0] = 0.5\n",
    "    for i in range(1, integral_table_size):\n",
    "        value2 = gauss(i/integral_table_scale)\n",
    "        table[i] = table[i-1] + (value1 + value2)*scale\n",
    "        value1 = value2\n",
    "    return table"
   ]
  },
  {
   "cell_type": "code",
   "execution_count": 181,
   "metadata": {},
   "outputs": [],
   "source": [
    "# calculate the distance of a point to a line segment\n",
    "def distance_to_segment(p, p1, p2):\n",
    "    v = p2 - p1\n",
    "    w = p - p1\n",
    "    c1 = np.dot(w, v)\n",
    "    if c1 <= 0:\n",
    "        return np.linalg.norm(p - p1)\n",
    "    c2 = np.dot(v, v)\n",
    "    if c2 <= c1:\n",
    "        return np.linalg.norm(p - p2)\n",
    "    b = c1 / c2\n",
    "    pb = p1 + b * v\n",
    "    return np.linalg.norm(p - pb)\n",
    "\n",
    "# calculate the projection of a point to a line containing the edge\n",
    "def project_point_with_parameterization(point, e1, e2):\n",
    "    E = e2 - e1\n",
    "    P = point - e1\n",
    "    alpha = np.dot(P, E) / np.dot(E, E)\n",
    "    Projection_Point = e1 + alpha * E\n",
    "    return Projection_Point, alpha\n",
    "\n",
    "\n",
    "\n",
    "\n",
    "\n",
    "\n",
    "# project the point to the edge, get the new point on the line.\n",
    "# the edge is defined by two points p1 and p2\n",
    "# the point is out of the edge\n",
    "# then rotate the line segment together with the new point to x-axis\n",
    "# return the rotated p1, p2 and point\n",
    "\n",
    "\n",
    "def Subtend(p1, p2, point, integral_table, integral_table_size, radius):\n",
    "    projection, alpha = project_point_with_parameterization(point, p1, p2)\n",
    "    e1distance = -np.linalg.norm(projection - p1)\n",
    "    e2distance = np.linalg.norm(projection - p2)\n",
    "    if alpha < 0:\n",
    "        e1distance = -e1distance\n",
    "    elif alpha > 1:\n",
    "        e2distance = -e2distance\n",
    "    integral_filter = gauss_integral(e1distance/radius, e2distance/radius, integral_table, integral_table_size)\n",
    "    return integral_filter\n",
    "\n",
    "# calculate gaussian convolution given the point and the edge(p1, p2)\n",
    "\n",
    "def gaussian_convolution(p1, p2, point, integral_table, integral_table_size,radius):\n",
    "    # distance between the point and the line segment\n",
    "    proj_point, alpha = project_point_with_parameterization(point,p1,p2)\n",
    "    proj_p = point - proj_point\n",
    "    dist = np.linalg.norm(proj_p)\n",
    "    # dist = distance_to_segment(p1, p2, point)\n",
    "    dist_filter = gauss(dist/radius)\n",
    "    integral_filter = Subtend(p1, p2, point, integral_table, integral_table_size, radius)\n",
    "    if integral_filter > 1.1:\n",
    "        print(integral_filter)\n",
    "    # result = dist_filter*integral_filter\n",
    "    return dist_filter*integral_filter\n",
    "    \n",
    "\n",
    "def area(x, integral_table_size, integral_table):\n",
    "    if x >0:\n",
    "        area = area_postive_x(x, integral_table_size, integral_table)\n",
    "        return area\n",
    "    elif x < 0:\n",
    "        return 1- area_postive_x(-x, integral_table_size, integral_table)\n",
    "    else:\n",
    "        return area_postive_x(x, integral_table_size, integral_table)\n",
    "\n",
    "        \n",
    "\n",
    "def area_postive_x(x, integral_table_size, integral_table):\n",
    "    integral_table_Xrange = 10\n",
    "    \n",
    "    integral_table_scale = integral_table_size/integral_table_Xrange\n",
    "    scaledX = x*integral_table_scale\n",
    "    # if np.isnan(scaledX):\n",
    "    #     print(scaledX)\n",
    "    #     print(x)\n",
    "        # print(integral_table)\n",
    "    table_index = min(integral_table_size-1, int(scaledX))\n",
    "    area = integral_table[table_index]\n",
    "    if table_index < integral_table_size-1:\n",
    "        area += (scaledX - table_index)*(integral_table[table_index+1]-area)\n",
    "    return area    \n",
    "    \n",
    "def gauss_integral(x1, x2, integral_table, integral_table_size):\n",
    "    # integral_table_size = 1000\n",
    "    # integral_table = make_gaussian_integral_table(integral_table_size)\n",
    "    return area(max(x2,x1), integral_table_size, integral_table) - area(min(x1,x2), integral_table_size, integral_table)"
   ]
  },
  {
   "cell_type": "code",
   "execution_count": 182,
   "metadata": {},
   "outputs": [],
   "source": [
    "# define the function to generate the edge bounding box\n",
    "def generate_edge_bounding_box(points, edges, edge_radius):\n",
    "    edge_bounding_boxes = []\n",
    "    for i in range(len(edges)):\n",
    "        edge = edges[i]\n",
    "        p0 = points[edge[0]]\n",
    "        p1 = points[edge[1]]\n",
    "        radius = edge_radius[i]\n",
    "        q_0x = int(np.floor(min(p0[0], p1[0]) - radius))\n",
    "        q_0y = int(np.floor(min(p0[1], p1[1]) - radius))\n",
    "        q_0z = int(np.floor(min(p0[2], p1[2]) - radius))\n",
    "        q_1x = int(np.ceil(max(p0[0], p1[0]) + radius))\n",
    "        q_1y = int(np.ceil(max(p0[1], p1[1]) + radius))\n",
    "        q_1z = int(np.ceil(max(p0[2], p1[2]) + radius))\n",
    "        q_0 = np.array([q_0x, q_0y, q_0z])\n",
    "        q_1 = np.array([q_1x, q_1y, q_1z])\n",
    "        edge_bounding_boxes.append([q_0, q_1])\n",
    "    return np.array(edge_bounding_boxes)\n",
    "\n",
    "# scaling the data to enlarge the resolution\n",
    "# the resolution of the grid is 2048x2048x2048\n",
    "def scale_data(points, scale):\n",
    "    points = points * scale\n",
    "    return points\n",
    "\n"
   ]
  },
  {
   "cell_type": "code",
   "execution_count": 183,
   "metadata": {},
   "outputs": [],
   "source": [
    "vdb_grid = vdb.FloatGrid(0)\n",
    "grid_accessor = vdb_grid.getAccessor()"
   ]
  },
  {
   "cell_type": "code",
   "execution_count": 184,
   "metadata": {},
   "outputs": [],
   "source": [
    "def load_edge_bounding_boxes_to_grid(edge_bounding_boxes, grid):\n",
    "    grid_accessor = grid.getAccessor()\n",
    "    for edge_bounding_box in edge_bounding_boxes:\n",
    "        q_0 = edge_bounding_box[0]\n",
    "        q_1 = edge_bounding_box[1]\n",
    "        grid.fill(q_0, q_1, float(0))\n",
    "\n",
    "edge_bounding_boxes = generate_edge_bounding_box(points, edges, edge_radius)\n",
    "load_edge_bounding_boxes_to_grid(edge_bounding_boxes, vdb_grid)\n"
   ]
  },
  {
   "cell_type": "code",
   "execution_count": 185,
   "metadata": {},
   "outputs": [
    {
     "name": "stdout",
     "output_type": "stream",
     "text": [
      "(50176, 2, 3)\n",
      "55094723\n",
      "(8, 10, 3) (637, 509, 966)\n",
      "[635.43878174 507.36654663 964.96972656]\n"
     ]
    }
   ],
   "source": [
    "print(edge_bounding_boxes.shape)\n",
    "print(vdb_grid.activeVoxelCount())\n",
    "(q0,q1) = vdb_grid.evalActiveVoxelBoundingBox()\n",
    "print(q0,q1)\n",
    "\n",
    "print(np.max(points, axis=0))"
   ]
  },
  {
   "cell_type": "code",
   "execution_count": 186,
   "metadata": {},
   "outputs": [
    {
     "name": "stdout",
     "output_type": "stream",
     "text": [
      "50175 / 50176\n"
     ]
    }
   ],
   "source": [
    "def precompute_distances(points, edges, edge_radius, bounding_boxes, grid):\n",
    "    tem_distance_grid = grid.deepCopy()\n",
    "    print(tem_distance_grid.evalActiveVoxelBoundingBox())\n",
    "    grid_accessor = tem_distance_grid.getAccessor()\n",
    "    bounding_box_grid = grid.deepCopy()\n",
    "    bounding_box_grid_accessor = bounding_box_grid.getAccessor()\n",
    "    integral_table_size = 10000\n",
    "    x_range = 10\n",
    "    integral_table = make_gaussian_integral_table(integral_table_size,x_range)\n",
    "    print(\"integral table made\")\n",
    "    for i in range(len(edges)):\n",
    "        edge = edges[i]\n",
    "        p1 = points[edge[0]]\n",
    "        p2 = points[edge[1]]\n",
    "        cur_edge_radius = edge_radius[i]\n",
    "        bounding_box = bounding_boxes[i]\n",
    "\n",
    "        # np.save('integral_table.txt', integral_table)\n",
    "        clear_output(wait=True)\n",
    "        for x in range(bounding_box[0][0], bounding_box[1][0]+1):\n",
    "            for y in range(bounding_box[0][1], bounding_box[1][1]+1):\n",
    "                for z in range(bounding_box[0][2], bounding_box[1][2]+1):\n",
    "                    p = np.array([x, y, z])\n",
    "                    if grid_accessor.isValueOn(p):\n",
    "                        value = grid_accessor.getValue(p)\n",
    "                        new_value = gaussian_convolution(p1,p2,p, integral_table, integral_table_size,cur_edge_radius)\n",
    "                        value = value + new_value\n",
    "                        grid_accessor.setValueOnly(p, value)\n",
    "                    else:\n",
    "                        pass\n",
    "        \n",
    "        print(i, \"/\", len(edges))\n",
    "    return tem_distance_grid, bounding_box_grid\n",
    "\n",
    "distance_grid, bounding_box_grid = precompute_distances(points, edges,edge_radius, edge_bounding_boxes, vdb_grid)"
   ]
  },
  {
   "cell_type": "code",
   "execution_count": 187,
   "metadata": {},
   "outputs": [
    {
     "name": "stdout",
     "output_type": "stream",
     "text": [
      "((8, 10, 3), (637, 509, 966))\n",
      "((8, 10, 3), (637, 509, 966))\n",
      "(0.0, 3.5687408447265625)\n",
      "(0.0, 0.0)\n"
     ]
    }
   ],
   "source": [
    "print(distance_grid.evalActiveVoxelBoundingBox())\n",
    "print(bounding_box_grid.evalActiveVoxelBoundingBox())\n",
    "print(distance_grid.evalMinMax())\n",
    "print(bounding_box_grid.evalMinMax())"
   ]
  },
  {
   "cell_type": "code",
   "execution_count": 188,
   "metadata": {},
   "outputs": [],
   "source": [
    "points, triangles, quads = distance_grid.convertToPolygons(isovalue=0.03125, adaptivity=1)"
   ]
  },
  {
   "cell_type": "code",
   "execution_count": 189,
   "metadata": {},
   "outputs": [
    {
     "name": "stdout",
     "output_type": "stream",
     "text": [
      "(1801787, 3)\n",
      "(1439059, 4)\n",
      "(726940, 3)\n",
      "[20 18 17 19]\n"
     ]
    }
   ],
   "source": [
    "print(points.shape)\n",
    "print(quads.shape)\n",
    "print(triangles.shape)\n",
    "print(quads[1])\n",
    "# using the points and quads generate a .obj file can be shown in blender\n",
    "def generate_mesh_obj(points, triangles, quads):\n",
    "    with open('../data/convolution_surface_mesh.obj', 'w') as f:\n",
    "        for p in points:\n",
    "            f.write('v %f %f %f\\n' % (p[0], p[1], p[2]))\n",
    "        for face in quads:\n",
    "            f.write('f %d %d %d %d\\n' % (face[0]+1, face[1]+1, face[2]+1, face[3]+1))\n",
    "        for triangle in triangles:\n",
    "            f.write('f %d %d %d\\n' % (triangle[0]+1, triangle[1]+1, triangle[2]+1))\n",
    "        f.close()\n",
    "\n",
    "generate_mesh_obj(points, triangles, quads)"
   ]
  },
  {
   "cell_type": "code",
   "execution_count": 190,
   "metadata": {},
   "outputs": [
    {
     "name": "stdout",
     "output_type": "stream",
     "text": [
      "6.0\n"
     ]
    }
   ],
   "source": [
    "# np.save('gaussian_integral_table.txt', table)\n",
    "# print(gauss(1))\n",
    "print(np.linalg.norm(edges[3][0] - edges[3][1]))"
   ]
  }
 ],
 "metadata": {
  "kernelspec": {
   "display_name": "Python 3",
   "language": "python",
   "name": "python3"
  },
  "language_info": {
   "codemirror_mode": {
    "name": "ipython",
    "version": 3
   },
   "file_extension": ".py",
   "mimetype": "text/x-python",
   "name": "python",
   "nbconvert_exporter": "python",
   "pygments_lexer": "ipython3",
   "version": "3.10.12"
  },
  "orig_nbformat": 4
 },
 "nbformat": 4,
 "nbformat_minor": 2
}
