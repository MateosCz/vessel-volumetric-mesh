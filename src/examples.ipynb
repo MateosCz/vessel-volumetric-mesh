{
 "cells": [
  {
   "cell_type": "code",
   "execution_count": null,
   "metadata": {},
   "outputs": [],
   "source": [
    "import numpy as np\n",
    "from pygel3d import graph\n",
    "from pygel3d import hmesh, gl_display as gl\n",
    "from pygel3d import jupyter_display as jd\n",
    "import pygel3d as py3d\n",
    "from plyfile import PlyData, PlyElement\n",
    "import open3d as o3d\n",
    "import open3d.core as o3c"
   ]
  },
  {
   "cell_type": "markdown",
   "metadata": {},
   "source": [
    "## Generate some examples of meshes with previous method to build a mesh from skeleton\n",
    "\n",
    "### This jupyter note book contains 4 baseline methods\n",
    "- SQM method\n",
    "- FEQ remesh method\n",
    "- Skin Modifier in Blender\n",
    "- Dual contouring based method\n",
    "\n",
    "Our original data are `data/points.npy` which contains points' 3d coordinates, `data/edge_array.npy` which contains edge indexed array, `data/edge_radius.npy` which contains each edges radius, corresponding to the edge indexed array(stored by same order)."
   ]
  },
  {
   "cell_type": "markdown",
   "metadata": {},
   "source": [
    "## Data Preparation\n",
    "\n",
    "In this section we mainly handle the data. We define several functions to manipulate data.\n",
    "\n",
    "\n",
    "Load `.npy` document and define a function write the numpy array data into a pygel3d-style `.obj` file. Note: this custom `.obj` file only for graph."
   ]
  },
  {
   "cell_type": "code",
   "execution_count": null,
   "metadata": {},
   "outputs": [],
   "source": [
    "points = np.load('../data/points.npy')\n",
    "edges = np.load('../data/edge_array.npy')\n",
    "radii = np.load('../data/edge_radius.npy')\n",
    "\n",
    "# write a .obj file from the points, edges, and radii numpy arrays\n",
    "def write_graph_obj(points, edges, radii, path):\n",
    "    with open(path, 'w') as f:\n",
    "        # f.write(f'g default\\n')\n",
    "        for point in points:\n",
    "            f.write(f'n {point[0]} {point[1]} {point[2]}\\n')\n",
    "            \n",
    "        # for edge in edges:\n",
    "        #     f.write(f'l {edge[0]+1} {edge[1]+1}\\n')\n",
    "\n",
    "        for i, edge in enumerate(edges):\n",
    "            radius = radii[i]\n",
    "            # f.write(f'c {edge[0]} {edge[1]} {radius}\\n')\n",
    "            f.write(f'c {edge[0]} {edge[1]}\\n')\n",
    "            \n",
    "        f.close()"
   ]
  },
  {
   "cell_type": "markdown",
   "metadata": {},
   "source": [
    "- Define a function that use the edge radius array generate each vertex's radius, return an np array of vertex radius.\n",
    "- Define a function that convert the pygel3d-style .obj file to standard .obj file that is readable for Blender."
   ]
  },
  {
   "cell_type": "code",
   "execution_count": null,
   "metadata": {},
   "outputs": [],
   "source": [
    "def edge_radius_to_vertex_radius(edges, edge_radius):\n",
    "    vertex_radius = np.zeros((edges.max()+1,))\n",
    "    for i, edge in enumerate(edges):\n",
    "        vertex_radius[edge[0]] = max(edge_radius[i], vertex_radius[edge[0]])     \n",
    "        vertex_radius[edge[1]] = max(edge_radius[i], vertex_radius[edge[1]])\n",
    "    return vertex_radius\n",
    "\n",
    "\n",
    "def convert_custom_obj_to_standard(input_file, output_file):\n",
    "    with open(input_file, 'r') as input_obj:\n",
    "        lines = input_obj.readlines()\n",
    "\n",
    "    converted_lines = []\n",
    "\n",
    "    for line in lines:\n",
    "        if line.startswith('n '):  # Change 'n' to 'v' for vertex\n",
    "            parts = line.strip().split()\n",
    "            converted_line = f\"v {' '.join(parts[1:])}\\n\"\n",
    "            converted_lines.append(converted_line)\n",
    "        elif line.startswith('c '):  # Change 'c' to 'l' for edges\n",
    "            parts = line.strip().split()\n",
    "            converted_line = f\"l {' '.join(parts[1:])}\\n\"\n",
    "            converted_lines.append(converted_line)\n",
    "\n",
    "    # Reindex the vertex indices to start from 0\n",
    "    vertex_index_offset = 0\n",
    "    for line in converted_lines:\n",
    "        if line.startswith('l '):\n",
    "            parts = line.strip().split()\n",
    "            converted_line = f\"l {' '}\"\n",
    "            for v in parts[1:]:\n",
    "                converted_line += f\"{int(v)+1} \"\n",
    "            converted_line += '\\n'\n",
    "            converted_lines[vertex_index_offset] = converted_line\n",
    "        vertex_index_offset += 1\n",
    "\n",
    "    with open(output_file, 'w') as output_obj:\n",
    "        output_obj.writelines(converted_lines)"
   ]
  },
  {
   "cell_type": "markdown",
   "metadata": {},
   "source": [
    "## SQM method"
   ]
  },
  {
   "cell_type": "code",
   "execution_count": null,
   "metadata": {},
   "outputs": [],
   "source": [
    "write_graph_obj(points, edges, radii, \"../data/graph.obj\")\n",
    "g = graph.load(\"../data/graph.obj\")\n",
    "m = graph.to_mesh_cyl(g,1)\n",
    "hmesh.save('../data/mesh_SQM.obj',m)"
   ]
  },
  {
   "cell_type": "markdown",
   "metadata": {},
   "source": [
    "## FEQ method"
   ]
  },
  {
   "cell_type": "code",
   "execution_count": null,
   "metadata": {},
   "outputs": [],
   "source": [
    "# # generate vertex radius from edge radius and save it to vertex_radius.npy\n",
    "# vertex_radius = edge_radius_to_vertex_radius(edges, radii)/10\n",
    "# np.save('vertex_radius.npy', vertex_radius)\n",
    "\n",
    "# # generate feq mesh from vertex radius and save it to feq_mesh.obj\n",
    "# FEQ_mesh = hmesh.skeleton_to_feq(g,vertex_radius)\n",
    "# hmesh.save(\"../data/feq_mesh.obj\",FEQ_mesh)\n",
    "\n",
    "# # generate feq mesh from vertex radius with origin scale and save it to feq_mesh_scale1.obj\n",
    "# FEQ_mesh_t1 = hmesh.skeleton_to_feq(g,vertex_radius*10)\n",
    "# hmesh.save(\"../data/feq_mesh_scale1.obj\",FEQ_mesh_t1)"
   ]
  },
  {
   "cell_type": "markdown",
   "metadata": {},
   "source": [
    "## Duel contouring based method"
   ]
  },
  {
   "cell_type": "markdown",
   "metadata": {},
   "source": [
    "- Generate mesh only using points information"
   ]
  },
  {
   "cell_type": "code",
   "execution_count": null,
   "metadata": {},
   "outputs": [],
   "source": [
    "# create numpy array of shape (n, n, n) from list of indices\n",
    "def voxel_grid_from_idx(indices):\n",
    "    voxel_grid = np.zeros((indices.max(axis=0)+1))\n",
    "    for index in indices:\n",
    "        voxel_grid[tuple(index)] = 1\n",
    "    return voxel_grid\n",
    "\n",
    "\n",
    "# add points for each edges for each x distant of the edge length\n",
    "def add_points_for_edges(points, edges, x=0.1):\n",
    "    new_points = []\n",
    "    for edge in edges:\n",
    "        p1 = points[edge[0]]\n",
    "        p2 = points[edge[1]]\n",
    "        distance = np.sqrt(np.sum((p1 - p2)**2))\n",
    "        num_points = int(distance / x)\n",
    "        for i in range(num_points):\n",
    "            new_points.append(p1 + (p2 - p1) * i / num_points)\n",
    "    return np.concatenate((points, np.array(new_points)))\n",
    "\n",
    "# cylinder function calculation using radius and height\n",
    "def cylinder(radius, start_coord, end_coord, num_sample_cir, sample_interval_z):\n",
    "    new_points = []\n",
    "    # calculate the height of the cylinder\n",
    "    height = np.sqrt(np.sum((start_coord - end_coord)**2))\n",
    "    # calculate the slope of the cylinder\n",
    "    slope = (end_coord - start_coord) / height\n",
    "    # calculate the number of samples in z direction\n",
    "    num_samples_z = int(height / sample_interval_z)\n",
    "    # calculate the points for the cylinder\n",
    "    for i in range(num_sample_cir):\n",
    "        for j in range(num_samples_z):\n",
    "            offset = start_coord + j * slope\n",
    "            x = radius * np.cos(i * 2 * np.pi / num_sample_cir) + offset[0]\n",
    "            y = radius * np.sin(i * 2 * np.pi / num_sample_cir) + offset[1]\n",
    "            z = offset[2]\n",
    "            new_points.append(np.array([x, y, z]))\n",
    "    # calculate the points for the top and bottom of the cylinder\n",
    "    for i in range(num_sample_cir):\n",
    "        x = radius * np.cos(i * 2 * np.pi / num_sample_cir) + start_coord[0]\n",
    "        y = radius * np.sin(i * 2 * np.pi / num_sample_cir) + start_coord[1]\n",
    "        z = start_coord[2]\n",
    "        new_points.append(np.array([x, y, z]))\n",
    "        x = radius * np.cos(i * 2 * np.pi / num_sample_cir) + end_coord[0]\n",
    "        y = radius * np.sin(i * 2 * np.pi / num_sample_cir) + end_coord[1]\n",
    "        z = end_coord[2]\n",
    "        new_points.append(np.array([x, y, z]))\n",
    "    print(np.array(new_points).shape)\n",
    "    return np.array(new_points)\n",
    "\n",
    "\n",
    "# generate point cloud for edge cylinder, input:edges, points, edge radius, num_samples. output: points\n",
    "def generate_point_cloud_for_edge_cylinder(edges, points, edge_radius, num_sample_cir, sample_interval_z):\n",
    "    new_points = []\n",
    "\n",
    "    for i, edge in enumerate(edges):\n",
    "        p1 = points[edge[0]]\n",
    "        p2 = points[edge[1]]\n",
    "        new_points.append(cylinder(edge_radius[i], p1, p2, num_sample_cir, sample_interval_z))\n",
    "    print(np.concatenate(new_points).shape)\n",
    "    return np.concatenate((points, np.concatenate(new_points)))\n",
    "\n",
    "        \n",
    "\n"
   ]
  },
  {
   "cell_type": "code",
   "execution_count": null,
   "metadata": {},
   "outputs": [],
   "source": []
  },
  {
   "cell_type": "code",
   "execution_count": null,
   "metadata": {},
   "outputs": [],
   "source": [
    "# generate point cloud\n",
    "pcd = o3d.geometry.PointCloud()\n",
    "# dot_graph = add_points_for_edges(points, edges, x=0.01)\n",
    "dot_graph = generate_point_cloud_for_edge_cylinder(edges, points, radii, 8, 0.5)\n",
    "pcd.points = o3d.utility.Vector3dVector(dot_graph)\n",
    "o3d.io.write_point_cloud(\"../data/pcd.ply\", pcd)\n",
    "\n",
    "# load point cloud and create voxel grid\n",
    "pcd_load = o3d.io.read_point_cloud(\"../data/pcd.ply\")\n",
    "pcd_load.colors = o3d.utility.Vector3dVector(np.random.uniform(0, 1, size=(len(points), 3)))\n",
    "voxel_grid = o3d.geometry.VoxelGrid.create_from_point_cloud(pcd_load, voxel_size=3)\n",
    "\n",
    "voxels = voxel_grid.get_voxels()\n",
    "indices = np.stack(list(vx.grid_index for vx in voxels))\n",
    "print(indices)\n",
    "\n",
    "voxel_grid = voxel_grid_from_idx(indices)\n",
    "iso_mesh = 0\n",
    "iso_mesh = hmesh.volumetric_isocontour(voxel_grid,high_is_inside=True,make_triangles=True,tau=0.8)\n",
    "hmesh.save('../data/iso_mesh.obj', iso_mesh)\n"
   ]
  },
  {
   "cell_type": "markdown",
   "metadata": {},
   "source": [
    "- First generate voxel grid from SQM mesh, then create the mesh from voxel grid."
   ]
  },
  {
   "cell_type": "code",
   "execution_count": null,
   "metadata": {},
   "outputs": [],
   "source": [
    "stick_mesh = hmesh.load(\"../data/mesh_SQM.obj\")\n",
    "hmesh.triangulate(stick_mesh)\n",
    "hmesh.save(\"../data/mesh_SQM_tri.obj\", stick_mesh)\n"
   ]
  },
  {
   "cell_type": "code",
   "execution_count": null,
   "metadata": {},
   "outputs": [],
   "source": [
    "stick_mesh = o3d.io.read_triangle_mesh(\"../data/mesh_SQM_tri.obj\")\n",
    "voxel_grid = o3d.geometry.VoxelGrid.create_from_triangle_mesh(stick_mesh, 4)\n",
    "o3d.io.write_voxel_grid(\"../data/voxel_grid.ply\", voxel_grid)\n",
    "voxels = voxel_grid.get_voxels()\n",
    "indices = np.stack(list(vx.grid_index for vx in voxels))\n",
    "print(indices)\n",
    "\n",
    "\n",
    "voxel_grid = voxel_grid_from_idx(indices)\n",
    "iso_mesh = 0\n",
    "iso_mesh = hmesh.volumetric_isocontour(voxel_grid,high_is_inside=True,make_triangles=True,tau=0.85)\n",
    "hmesh.save('../data/iso_mesh_from_stick.obj', iso_mesh)"
   ]
  },
  {
   "cell_type": "code",
   "execution_count": null,
   "metadata": {},
   "outputs": [],
   "source": [
    "# skeleton = graph.LS_skeleton(g)\n",
    "# graph.save('../data/skeleton.obj', skeleton)\n",
    "# convert_custom_obj_to_standard('../data/skeleton.obj', '../data/skeleton_standard.obj')"
   ]
  },
  {
   "cell_type": "markdown",
   "metadata": {},
   "source": [
    "## Isocontour method, using openvdb to store the grid."
   ]
  },
  {
   "cell_type": "code",
   "execution_count": 1,
   "metadata": {},
   "outputs": [],
   "source": [
    "# import the necessary packages\n",
    "import pyopenvdb as vdb\n",
    "import numpy as np\n",
    "import matplotlib.pyplot as plt\n",
    "import pygel3d as pyg\n",
    "import scipy as sp\n",
    "import cupy as cp\n"
   ]
  },
  {
   "cell_type": "code",
   "execution_count": 3,
   "metadata": {},
   "outputs": [],
   "source": [
    "points = np.load('../data/points.npy')\n",
    "edges = np.load('../data/edge_array.npy')\n",
    "edge_radius = np.load('../data/edge_radius.npy')"
   ]
  },
  {
   "cell_type": "markdown",
   "metadata": {},
   "source": [
    "### implement in openvdb"
   ]
  },
  {
   "cell_type": "code",
   "execution_count": 4,
   "metadata": {},
   "outputs": [],
   "source": [
    "# define the function to generate the edge bounding box\n",
    "def generate_edge_bounding_box(points, edges, edge_radius):\n",
    "    edge_bounding_boxes = []\n",
    "    for i in range(len(edges)):\n",
    "        edge = edges[i]\n",
    "        p0 = points[edge[0]]\n",
    "        p1 = points[edge[1]]\n",
    "        radius = edge_radius[i]\n",
    "        q_0x = int(np.floor(min(p0[0], p1[0]) - radius))\n",
    "        q_0y = int(np.floor(min(p0[1], p1[1]) - radius))\n",
    "        q_0z = int(np.floor(min(p0[2], p1[2]) - radius))\n",
    "        q_1x = int(np.ceil(max(p0[0], p1[0]) + radius))\n",
    "        q_1y = int(np.ceil(max(p0[1], p1[1]) + radius))\n",
    "        q_1z = int(np.ceil(max(p0[2], p1[2]) + radius))\n",
    "        q_0 = np.array([q_0x, q_0y, q_0z])\n",
    "        q_1 = np.array([q_1x, q_1y, q_1z])\n",
    "        edge_bounding_boxes.append([q_0, q_1])\n",
    "    return np.array(edge_bounding_boxes)\n",
    "\n",
    "# scaling the data to enlarge the resolution\n",
    "# the resolution of the grid is 2048x2048x2048\n",
    "def scale_data(points, scale):\n",
    "    points = points * scale\n",
    "    return points\n",
    "\n",
    "points = scale_data(points, 2)\n",
    "\n",
    "# create voxel grid using pyopenvdb\n",
    "# the resolution of the grid is 2048x2048x2048\n"
   ]
  },
  {
   "cell_type": "code",
   "execution_count": 5,
   "metadata": {},
   "outputs": [],
   "source": [
    "\n",
    "vdb_grid = vdb.FloatGrid(0)\n",
    "grid_accessor = vdb_grid.getAccessor()\n"
   ]
  },
  {
   "cell_type": "code",
   "execution_count": 7,
   "metadata": {},
   "outputs": [
    {
     "name": "stdout",
     "output_type": "stream",
     "text": [
      "(50176, 2, 3)\n"
     ]
    }
   ],
   "source": [
    "\n",
    "# load points to voxel grid\n",
    "def load_points_to_grid(points, grid):\n",
    "    grid_accessor = grid.getAccessor()\n",
    "    sum =0\n",
    "    for point in points:\n",
    "        sum += 1\n",
    "        grid_accessor.setValueOn(point, 1.0)\n",
    "# load_points_to_grid(points, grid_accessor)\n",
    "# load edges bounding boxes to voxel grid\n",
    "def load_edge_bounding_boxes_to_grid(edge_bounding_boxes, grid):\n",
    "    grid_accessor = grid.getAccessor()\n",
    "    for edge_bounding_box in edge_bounding_boxes:\n",
    "        q_0 = edge_bounding_box[0]\n",
    "        q_1 = edge_bounding_box[1]\n",
    "        grid.fill(q_0, q_1, float(0))\n",
    "\n",
    "\n",
    "# example_grid = vdb.FloatGrid(float('inf'))\n",
    "# grid_accessor = vdb_grid.getAccessor()\n",
    "# example_edge_bounding_boxes = generate_edge_bounding_box(example_points, example_edges, example_edge_radius)\n",
    "# load_edge_bounding_boxes_to_grid(example_edge_bounding_boxes, example_grid)\n",
    "edge_bounding_boxes = generate_edge_bounding_box(points, edges, edge_radius)\n",
    "print(edge_bounding_boxes.shape)\n",
    "load_edge_bounding_boxes_to_grid(edge_bounding_boxes, vdb_grid)\n",
    "# print(example_edge_bounding_boxes.shape)"
   ]
  },
  {
   "cell_type": "code",
   "execution_count": 8,
   "metadata": {},
   "outputs": [
    {
     "name": "stdout",
     "output_type": "stream",
     "text": [
      "(50176, 2, 3)\n",
      "264031737\n",
      "(17, 22, 7) (1272, 1016, 1931)\n",
      "[1270.87756348 1014.73309326 1929.93945312]\n"
     ]
    }
   ],
   "source": [
    "vdb_grid.transform = vdb.createLinearTransform(voxelSize = 0.1)\n",
    "print(edge_bounding_boxes.shape)\n",
    "print(vdb_grid.activeVoxelCount())\n",
    "(q0,q1) = vdb_grid.evalActiveVoxelBoundingBox()\n",
    "print(q0,q1)\n",
    "\n",
    "print(np.max(points, axis=0))"
   ]
  },
  {
   "cell_type": "code",
   "execution_count": 9,
   "metadata": {},
   "outputs": [
    {
     "name": "stdout",
     "output_type": "stream",
     "text": [
      "50175 / 50176\n"
     ]
    }
   ],
   "source": [
    "# calculate the distance of a point to a line segment\n",
    "def distance_to_segment(p, p1, p2):\n",
    "    v = p2 - p1\n",
    "    w = p - p1\n",
    "    c1 = np.dot(w, v)\n",
    "    if c1 <= 0:\n",
    "        return np.linalg.norm(p - p1)\n",
    "    c2 = np.dot(v, v)\n",
    "    if c2 <= c1:\n",
    "        return np.linalg.norm(p - p2)\n",
    "    b = c1 / c2\n",
    "    pb = p1 + b * v\n",
    "    return np.linalg.norm(p - pb)\n",
    "\n",
    "    \n",
    "\n",
    "from IPython.display import clear_output\n",
    "# calculate the distance to the nearest edge inside each bounding box\n",
    "# and store the corresponding bounding box index to a grid\n",
    "# return a distance grid and a bounding box grid\n",
    "def precompute_distances(points, edges, edge_radius, bounding_boxes, grid):\n",
    "    tem_distance_grid = grid.deepCopy()\n",
    "    print(tem_distance_grid.evalActiveVoxelBoundingBox())\n",
    "    grid_accessor = tem_distance_grid.getAccessor()\n",
    "    bounding_box_grid = grid.deepCopy()\n",
    "    bounding_box_grid_accessor = bounding_box_grid.getAccessor()\n",
    "    for i in range(len(edges)):\n",
    "        edge = edges[i]\n",
    "        p1 = points[edge[0]]\n",
    "        p2 = points[edge[1]]\n",
    "        bounding_box = bounding_boxes[i]\n",
    "        clear_output(wait=True)\n",
    "        for x in range(bounding_box[0][0], bounding_box[1][0]+1):\n",
    "            for y in range(bounding_box[0][1], bounding_box[1][1]+1):\n",
    "                for z in range(bounding_box[0][2], bounding_box[1][2]+1):\n",
    "                    p = np.array([x, y, z])\n",
    "                    if grid_accessor.isValueOn(p):\n",
    "                        distance = distance_to_segment(p, p1, p2)\n",
    "                        gaussian_distance = np.exp(-((distance/edge_radius[i])**2)*0.6931)\n",
    "                        # print(gaussian_distance, grid_accessor.getValue(p))\n",
    "                        if gaussian_distance > grid_accessor.getValue(p):\n",
    "                            \n",
    "                            grid_accessor.setValueOnly(p, gaussian_distance)\n",
    "                            cur_index = i\n",
    "                            bounding_box_grid_accessor.setValueOnly(p, cur_index)\n",
    "                        else:\n",
    "                            pass\n",
    "                    else:\n",
    "                        pass\n",
    "        \n",
    "        print(i, \"/\", len(edges))\n",
    "    return tem_distance_grid, bounding_box_grid\n",
    "\n",
    "    \n",
    "distance_grid, bounding_box_grid = precompute_distances(points, edges,edge_radius, edge_bounding_boxes, vdb_grid)\n",
    "# example_distance_grid, example_bounding_box_grid = precompute_distances(example_points, example_edges, example_edge_bounding_boxes, example_grid)\n"
   ]
  },
  {
   "cell_type": "code",
   "execution_count": 10,
   "metadata": {},
   "outputs": [
    {
     "name": "stdout",
     "output_type": "stream",
     "text": [
      "((17, 22, 7), (1272, 1016, 1931))\n",
      "((17, 22, 7), (1272, 1016, 1931))\n",
      "(0.0, 1.0)\n",
      "(0.0, 50175.0)\n"
     ]
    }
   ],
   "source": [
    "# vdb.write('../data/test.vdb', vdb_grid)\n",
    "\n",
    "print(distance_grid.evalActiveVoxelBoundingBox())\n",
    "print(bounding_box_grid.evalActiveVoxelBoundingBox())\n",
    "print(distance_grid.evalMinMax())\n",
    "print(bounding_box_grid.evalMinMax())\n",
    "\n",
    "distance_grid.name = 'distance_grid'\n",
    "bounding_box_grid.name = 'bounding_box_grid'\n",
    "vdb.write('../data/distance_grid.vdb', distance_grid)\n",
    "vdb.write('../data/bounding_box_grid.vdb', bounding_box_grid)"
   ]
  },
  {
   "cell_type": "code",
   "execution_count": 18,
   "metadata": {},
   "outputs": [
    {
     "name": "stdout",
     "output_type": "stream",
     "text": [
      "4 edges done\n"
     ]
    },
    {
     "ename": "KeyboardInterrupt",
     "evalue": "",
     "output_type": "error",
     "traceback": [
      "\u001b[0;31m---------------------------------------------------------------------------\u001b[0m",
      "\u001b[0;31mKeyboardInterrupt\u001b[0m                         Traceback (most recent call last)",
      "Cell \u001b[0;32mIn[18], line 120\u001b[0m\n\u001b[1;32m    114\u001b[0m         \u001b[39mprint\u001b[39m(i, \u001b[39m'\u001b[39m\u001b[39medges done\u001b[39m\u001b[39m'\u001b[39m, flush\u001b[39m=\u001b[39m\u001b[39mTrue\u001b[39;00m)\n\u001b[1;32m    115\u001b[0m     \u001b[39mreturn\u001b[39;00m new_grid\n\u001b[0;32m--> 120\u001b[0m new_grid \u001b[39m=\u001b[39m gaussian_convolution_skeleton(edges, distance_grid, \n\u001b[1;32m    121\u001b[0m                                          bounding_box_grid, \u001b[39m0.6931\u001b[39;49m, \n\u001b[1;32m    122\u001b[0m                                          edge_bounding_boxes, edge_radius, \n\u001b[1;32m    123\u001b[0m                                          kernel_size\u001b[39m=\u001b[39;49m\u001b[39m20\u001b[39;49m)\n\u001b[1;32m    125\u001b[0m \u001b[39m# example_new_grid = gaussian_convolution_skeleton(example_edges, example_distance_grid,example_bounding_box_grid, 0.6931, example_edge_bounding_boxes, example_edge_radius, kernel_size=5)\u001b[39;00m\n",
      "Cell \u001b[0;32mIn[18], line 109\u001b[0m, in \u001b[0;36mgaussian_convolution_skeleton\u001b[0;34m(edges, distance_grid, bounding_box_grid, omega, bounding_boxes, edge_radii, kernel_size)\u001b[0m\n\u001b[1;32m    107\u001b[0m             \u001b[39mif\u001b[39;00m bounding_box_index \u001b[39m!=\u001b[39m i:\n\u001b[1;32m    108\u001b[0m                 \u001b[39mcontinue\u001b[39;00m\n\u001b[0;32m--> 109\u001b[0m             new_value \u001b[39m=\u001b[39m gaussian_convolution_3d(kernel_size, \n\u001b[1;32m    110\u001b[0m                                                 new_grid, coordinate, omega, q0, q1, \n\u001b[1;32m    111\u001b[0m                                                 bounding_box_index, edge_radii[bounding_box_index])\n\u001b[1;32m    112\u001b[0m             new_grid_accessor\u001b[39m.\u001b[39msetValueOnly(coordinate, new_value)\n\u001b[1;32m    113\u001b[0m clear_output(wait\u001b[39m=\u001b[39m\u001b[39mFalse\u001b[39;00m)\n",
      "Cell \u001b[0;32mIn[18], line 82\u001b[0m, in \u001b[0;36mgaussian_convolution_3d\u001b[0;34m(size, grid, node_coord, omega, q0, q1, i, radius)\u001b[0m\n\u001b[1;32m     81\u001b[0m \u001b[39mdef\u001b[39;00m \u001b[39mgaussian_convolution_3d\u001b[39m(size, grid,node_coord, omega, q0, q1, i, radius):\n\u001b[0;32m---> 82\u001b[0m     x_result \u001b[39m=\u001b[39m gaussian_convolution_1d(size, grid, node_coord, omega, q0, q1, \u001b[39m'\u001b[39;49m\u001b[39mx\u001b[39;49m\u001b[39m'\u001b[39;49m, radius)\n\u001b[1;32m     83\u001b[0m     y_result \u001b[39m=\u001b[39m gaussian_convolution_1d(size, grid, node_coord, omega, q0, q1, \u001b[39m'\u001b[39m\u001b[39my\u001b[39m\u001b[39m'\u001b[39m, radius)\n\u001b[1;32m     84\u001b[0m     z_result \u001b[39m=\u001b[39m gaussian_convolution_1d(size, grid, node_coord, omega, q0, q1, \u001b[39m'\u001b[39m\u001b[39mz\u001b[39m\u001b[39m'\u001b[39m, radius) \n",
      "Cell \u001b[0;32mIn[18], line 69\u001b[0m, in \u001b[0;36mgaussian_convolution_1d\u001b[0;34m(size, grid, node_coord, omega, xmin, xmax, direction, radius)\u001b[0m\n\u001b[1;32m     67\u001b[0m grid_accessor \u001b[39m=\u001b[39m grid\u001b[39m.\u001b[39mgetAccessor()\n\u001b[1;32m     68\u001b[0m center_coord \u001b[39m=\u001b[39m node_coord\n\u001b[0;32m---> 69\u001b[0m kernel \u001b[39m=\u001b[39m gaussian_kernel_1d(size, center_coord, grid, omega, xmin, xmax, direction, radius)\n\u001b[1;32m     70\u001b[0m new_value \u001b[39m=\u001b[39m \u001b[39m0\u001b[39m\n\u001b[1;32m     71\u001b[0m \u001b[39mfor\u001b[39;00m a \u001b[39min\u001b[39;00m \u001b[39mrange\u001b[39m(size):\n",
      "Cell \u001b[0;32mIn[18], line 37\u001b[0m, in \u001b[0;36mgaussian_kernel_1d\u001b[0;34m(size, center_coord, grid, omega, xmin, xmax, direction, radius)\u001b[0m\n\u001b[1;32m     34\u001b[0m         coord[d] \u001b[39m=\u001b[39m xmax[d]\n\u001b[1;32m     35\u001b[0m     disti \u001b[39m=\u001b[39m grid_accessor\u001b[39m.\u001b[39mgetValue(coord)\n\u001b[0;32m---> 37\u001b[0m     kernel[i] \u001b[39m=\u001b[39m np\u001b[39m.\u001b[39;49mexp(\u001b[39m-\u001b[39;49momega \u001b[39m*\u001b[39;49m ((disti\u001b[39m/\u001b[39;49mradius)\u001b[39m*\u001b[39;49m\u001b[39m*\u001b[39;49m\u001b[39m2\u001b[39;49m))\n\u001b[1;32m     38\u001b[0m     \u001b[39msum\u001b[39m \u001b[39m+\u001b[39m\u001b[39m=\u001b[39m kernel[i]\n\u001b[1;32m     39\u001b[0m kernel \u001b[39m=\u001b[39m kernel \u001b[39m/\u001b[39m \u001b[39msum\u001b[39m\n",
      "\u001b[0;31mKeyboardInterrupt\u001b[0m: "
     ]
    }
   ],
   "source": [
    "# grid = vdb.read('../data/test.vdb', '')\n",
    "# grid.name = 'test'\n",
    "# grid_accessor = grid.getAccessor()\n",
    "# print(grid.info())\n",
    "# print(grid.evalActiveVoxelDim())\n",
    "\n",
    "\n",
    "from IPython.display import clear_output\n",
    "bounding_box_grid = vdb.read('../data/bounding_box_grid.vdb', 'bounding_box_grid')\n",
    "distance_grid = vdb.read('../data/distance_grid.vdb', 'distance_grid')\n",
    "\n",
    "# print(bounding_box_grid.evalMinMax())\n",
    "\n",
    "# define a function to generate the 1D gaussian kernel\n",
    "def gaussian_kernel_1d(size, center_coord, grid, omega, xmin, xmax, direction, radius):\n",
    "    kernel = np.zeros(size)\n",
    "    c = size // 2\n",
    "    grid_accessor = grid.getAccessor()\n",
    "    sum = 0\n",
    "    if direction == 'x':\n",
    "        d = 0\n",
    "    elif direction == 'y':\n",
    "        d = 1\n",
    "    elif direction == 'z':\n",
    "        d = 2\n",
    "    else:\n",
    "        raise ValueError('direction must be x, y or z')\n",
    "    for i in range(size):\n",
    "        coord = center_coord\n",
    "        coord[d] += i - c\n",
    "        if coord[d] < xmin[d]:\n",
    "            coord[d] = xmin[d]\n",
    "        if coord[d] > xmax[d]:\n",
    "            coord[d] = xmax[d]\n",
    "        disti = grid_accessor.getValue(coord)\n",
    "        \n",
    "        kernel[i] = np.exp(-omega * ((disti/radius)**2))\n",
    "        sum += kernel[i]\n",
    "    kernel = kernel / sum\n",
    "    del grid_accessor\n",
    "    return kernel\n",
    "\n",
    "\n",
    "# define a function to do the discrete 1d gaussian convolution\n",
    "def gaussian_convolution_1d(size, grid, node_coord, omega, xmin, xmax, direction, radius):\n",
    "    if direction == 'x':\n",
    "        d = 0\n",
    "    elif direction == 'y':\n",
    "        d = 1\n",
    "    elif direction == 'z':\n",
    "        d = 2\n",
    "    else:\n",
    "        raise ValueError('direction must be x, y or z')\n",
    "    # temp_grid = grid.deepCopy()\n",
    "    # grid_accessor = temp_grid.getAccessor()    \n",
    "    # for i in range(xmax[0]-xmin[0]+1):\n",
    "    #     for j in range(xmax[1]-xmin[1]+1):\n",
    "    #         for k in range(xmax[2]-xmin[2]+1):\n",
    "    #             center_coord = [xmin[0]+i, xmin[1]+j, xmin[2]+k]\n",
    "    #             kernel = gaussian_kernel_1d(size, center_coord, grid, omega, xmin, xmax, direction, radius)\n",
    "    #             new_value = 0\n",
    "    #             for a in range(size):\n",
    "    #                 offset = a - size // 2\n",
    "    #                 cur_coord = center_coord + offset * np.array([d==0, d==1, d==2])\n",
    "    #                 cur_value = grid_accessor.getValue(cur_coord)\n",
    "    #                 new_value += cur_value * kernel[a]\n",
    "    grid_accessor = grid.getAccessor()\n",
    "    center_coord = node_coord\n",
    "    kernel = gaussian_kernel_1d(size, center_coord, grid, omega, xmin, xmax, direction, radius)\n",
    "    new_value = 0\n",
    "    for a in range(size):\n",
    "        offset = a - size // 2\n",
    "        cur_coord = center_coord + offset * np.array([d==0, d==1, d==2])\n",
    "        cur_value = grid_accessor.getValue(cur_coord)\n",
    "        new_value += cur_value * kernel[a]\n",
    "    del grid_accessor\n",
    "    return new_value\n",
    "\n",
    "\n",
    "# define a function to do the discrete 3d gaussian convolution\n",
    "def gaussian_convolution_3d(size, grid,node_coord, omega, q0, q1, i, radius):\n",
    "    x_result = gaussian_convolution_1d(size, grid, node_coord, omega, q0, q1, 'x', radius)\n",
    "    y_result = gaussian_convolution_1d(size, grid, node_coord, omega, q0, q1, 'y', radius)\n",
    "    z_result = gaussian_convolution_1d(size, grid, node_coord, omega, q0, q1, 'z', radius) \n",
    "    # print('edge', i, 'done')\n",
    "    return x_result* y_result* z_result\n",
    "\n",
    "\n",
    "# implement the 3d gaussian convolution on the whole skeleton\n",
    "# parameters: edge_list, grid, bounding boxes, omega\n",
    "def gaussian_convolution_skeleton(edges, distance_grid, bounding_box_grid, omega, bounding_boxes, edge_radii, kernel_size=5):\n",
    "    new_grid = distance_grid.deepCopy()\n",
    "\n",
    "    new_grid_accessor = new_grid.getAccessor()\n",
    "    bounding_box_grid_accessor = bounding_box_grid.getAccessor()\n",
    "    i = 0\n",
    "    for edge,i in zip(edges, range(len(edges))):\n",
    "        bounding_box = bounding_boxes[i]\n",
    "        q0 = bounding_box[0]\n",
    "        q1 = bounding_box[1]\n",
    "        for x in range(q0[0],q1[0]):\n",
    "            for y in range(q0[1], q1[1]):\n",
    "                for z in range(q0[2], q1[2]):\n",
    "                    coordinate = [x,y,z]\n",
    "                    bounding_box_index = bounding_box_grid_accessor.getValue(coordinate)\n",
    "                    bounding_box_index = int(bounding_box_index)\n",
    "                    if bounding_box_index != i:\n",
    "                        continue\n",
    "                    new_value = gaussian_convolution_3d(kernel_size, \n",
    "                                                        new_grid, coordinate, omega, q0, q1, \n",
    "                                                        bounding_box_index, edge_radii[bounding_box_index])\n",
    "                    new_grid_accessor.setValueOnly(coordinate, new_value)\n",
    "        clear_output(wait=False)\n",
    "        print(i, 'edges done', flush=True)\n",
    "    return new_grid\n",
    "\n",
    "\n",
    "\n",
    "\n",
    "new_grid = gaussian_convolution_skeleton(edges, distance_grid, \n",
    "                                         bounding_box_grid, 0.6931, \n",
    "                                         edge_bounding_boxes, edge_radius, \n",
    "                                         kernel_size=20)\n",
    "\n",
    "# example_new_grid = gaussian_convolution_skeleton(example_edges, example_distance_grid,example_bounding_box_grid, 0.6931, example_edge_bounding_boxes, example_edge_radius, kernel_size=5)\n",
    "\n",
    "\n"
   ]
  },
  {
   "cell_type": "code",
   "execution_count": 21,
   "metadata": {},
   "outputs": [
    {
     "ename": "NameError",
     "evalue": "name 'new_grid' is not defined",
     "output_type": "error",
     "traceback": [
      "\u001b[0;31m---------------------------------------------------------------------------\u001b[0m",
      "\u001b[0;31mNameError\u001b[0m                                 Traceback (most recent call last)",
      "Cell \u001b[0;32mIn[21], line 1\u001b[0m\n\u001b[0;32m----> 1\u001b[0m new_grid\u001b[39m.\u001b[39mname \u001b[39m=\u001b[39m \u001b[39m'\u001b[39m\u001b[39misocontour2\u001b[39m\u001b[39m'\u001b[39m\n\u001b[1;32m      2\u001b[0m vdb\u001b[39m.\u001b[39mwrite(\u001b[39m'\u001b[39m\u001b[39m../data/isocontour2.vdb\u001b[39m\u001b[39m'\u001b[39m, new_grid)\n",
      "\u001b[0;31mNameError\u001b[0m: name 'new_grid' is not defined"
     ]
    }
   ],
   "source": [
    "new_grid.name = 'isocontour2'\n",
    "vdb.write('../data/isocontour2.vdb', new_grid)"
   ]
  },
  {
   "cell_type": "code",
   "execution_count": null,
   "metadata": {},
   "outputs": [],
   "source": [
    "vdb.write('../data/isocontour.vdb', new_grid)"
   ]
  },
  {
   "cell_type": "code",
   "execution_count": null,
   "metadata": {},
   "outputs": [],
   "source": [
    "import pyopenvdb as vdb\n",
    "import numpy as np\n",
    "import matplotlib.pyplot as plt\n",
    "import math"
   ]
  },
  {
   "cell_type": "code",
   "execution_count": null,
   "metadata": {},
   "outputs": [],
   "source": [
    "grid = vdb.read('../data/isocontour2.vdb', 'isocontour2')\n",
    "grid.name = 'isocontour2'\n",
    "grid.background = 0.0\n",
    "for node in grid.iterOnValues():\n",
    "    if node.value == float('inf') or math.isnan(node.value):\n",
    "        node.value = 0.0\n",
    "print(grid.evalMinMax())\n",
    "print(grid.info())\n"
   ]
  },
  {
   "cell_type": "code",
   "execution_count": null,
   "metadata": {},
   "outputs": [],
   "source": []
  },
  {
   "cell_type": "code",
   "execution_count": null,
   "metadata": {},
   "outputs": [],
   "source": [
    "vdb.write('../data/isocontour2.vdb', grid)"
   ]
  },
  {
   "cell_type": "code",
   "execution_count": 11,
   "metadata": {},
   "outputs": [],
   "source": [
    "# select the voxels in grid with a specific isovalue \n",
    "# and deactivate all other voxels\n",
    "\n",
    "def select_voxel(grid, isovalue):\n",
    "    new_grid = grid.deepCopy()\n",
    "    for node in new_grid.iterOnValues():\n",
    "        value = node.value\n",
    "        if value < isovalue+0.1 and value > isovalue-0.1:\n",
    "            node.active = True\n",
    "            node.value = 1\n",
    "        else:\n",
    "            node.active = False\n",
    "    return new_grid\n",
    "\n",
    "# new_grid = select_voxel(distance_grid, 0.5)\n",
    "\n",
    "\n"
   ]
  },
  {
   "cell_type": "code",
   "execution_count": 12,
   "metadata": {},
   "outputs": [
    {
     "name": "stdout",
     "output_type": "stream",
     "text": [
      "(1.0, 1.0)\n",
      "0.0\n"
     ]
    }
   ],
   "source": [
    "print(new_grid.evalMinMax())\n",
    "new_grid.background = 0.0\n",
    "print(new_grid.background)"
   ]
  },
  {
   "cell_type": "code",
   "execution_count": 42,
   "metadata": {},
   "outputs": [],
   "source": [
    "\n",
    "new_grid.name = 'new_grid'\n",
    "vdb.write('../data/new_grid.vdb', new_grid, 'new_grid')"
   ]
  },
  {
   "cell_type": "code",
   "execution_count": 11,
   "metadata": {},
   "outputs": [],
   "source": [
    "points, triangles, quads = distance_grid.convertToPolygons(isovalue=0.5, adaptivity=1)"
   ]
  },
  {
   "cell_type": "code",
   "execution_count": 12,
   "metadata": {},
   "outputs": [
    {
     "name": "stdout",
     "output_type": "stream",
     "text": [
      "(3855079, 3)\n",
      "(3055555, 4)\n",
      "(1599952, 3)\n",
      "[6 1 0 5]\n"
     ]
    }
   ],
   "source": [
    "print(points.shape)\n",
    "print(quads.shape)\n",
    "print(triangles.shape)\n",
    "print(quads[1])\n",
    "# using the points and quads generate a .obj file can be shown in blender\n",
    "def generate_mesh_obj(points, triangles, quads):\n",
    "    with open('../data/new_mesh.obj', 'w') as f:\n",
    "        for p in points:\n",
    "            f.write('v %f %f %f\\n' % (p[0], p[1], p[2]))\n",
    "        for face in quads:\n",
    "            f.write('f %d %d %d %d\\n' % (face[0]+1, face[1]+1, face[2]+1, face[3]+1))\n",
    "        for triangle in triangles:\n",
    "            f.write('f %d %d %d\\n' % (triangle[0]+1, triangle[1]+1, triangle[2]+1))\n",
    "        f.close()\n",
    "\n",
    "generate_mesh_obj(points, triangles, quads)\n",
    "\n"
   ]
  },
  {
   "cell_type": "markdown",
   "metadata": {},
   "source": [
    "## implement convolution on a simple example skeleton"
   ]
  },
  {
   "cell_type": "code",
   "execution_count": 6,
   "metadata": {},
   "outputs": [],
   "source": [
    "import pyopenvdb as vdb\n",
    "import numpy as np\n",
    "import matplotlib.pyplot as plt\n",
    "import pygel3d as pyg\n",
    "import scipy as sp\n",
    "import cupy as cp\n",
    "\n",
    "def generate_example_skeleton_data(num_points, num_edges):\n",
    "    points = np.random.rand(num_points, 3) * 540\n",
    "    edges = np.random.randint(0, num_points, (num_edges, 2))\n",
    "    edge_radius = np.random.rand(num_edges)*50\n",
    "    return points, edges, edge_radius\n",
    "\n",
    "example_points, example_edges, example_edge_radius = generate_example_skeleton_data(10,10)\n",
    "\n",
    "# define the function to generate the edge bounding box\n",
    "def generate_edge_bounding_box(points, edges, edge_radius):\n",
    "    edge_bounding_boxes = []\n",
    "    for i in range(len(edges)):\n",
    "        edge = edges[i]\n",
    "        p0 = points[edge[0]]\n",
    "        p1 = points[edge[1]]\n",
    "        radius = edge_radius[i]\n",
    "        q_0x = int(np.floor(min(p0[0], p1[0]) - radius))\n",
    "        q_0y = int(np.floor(min(p0[1], p1[1]) - radius))\n",
    "        q_0z = int(np.floor(min(p0[2], p1[2]) - radius))\n",
    "        q_1x = int(np.ceil(max(p0[0], p1[0]) + radius))\n",
    "        q_1y = int(np.ceil(max(p0[1], p1[1]) + radius))\n",
    "        q_1z = int(np.ceil(max(p0[2], p1[2]) + radius))\n",
    "        q_0 = np.array([q_0x, q_0y, q_0z])\n",
    "        q_1 = np.array([q_1x, q_1y, q_1z])\n",
    "        edge_bounding_boxes.append([q_0, q_1])\n",
    "    return np.array(edge_bounding_boxes)\n",
    "\n",
    "# scaling the data to enlarge the resolution\n",
    "# the resolution of the grid is 2048x2048x2048\n",
    "def scale_data(points, scale):\n",
    "    points = points * scale\n",
    "    return points\n",
    "\n",
    "# points = scale_data(points, 1.5)\n",
    "\n",
    "# create voxel grid using pyopenvdb\n",
    "# the resolution of the grid is 2048x2048x2048"
   ]
  },
  {
   "cell_type": "code",
   "execution_count": 8,
   "metadata": {},
   "outputs": [
    {
     "name": "stdout",
     "output_type": "stream",
     "text": [
      "(10, 2, 3)\n"
     ]
    }
   ],
   "source": [
    "example_grid = vdb.FloatGrid(float('inf'))\n",
    "grid_accessor = example_grid.getAccessor()\n",
    "\n",
    "def load_edge_bounding_boxes_to_grid(edge_bounding_boxes, grid):\n",
    "    grid_accessor = grid.getAccessor()\n",
    "    for edge_bounding_box in edge_bounding_boxes:\n",
    "        q_0 = edge_bounding_box[0]\n",
    "        q_1 = edge_bounding_box[1]\n",
    "        grid.fill(q_0, q_1, float('inf'))\n",
    "\n",
    "example_edge_bounding_boxes = generate_edge_bounding_box(example_points, example_edges, example_edge_radius)\n",
    "load_edge_bounding_boxes_to_grid(example_edge_bounding_boxes, example_grid)\n",
    "print(example_edge_bounding_boxes.shape)\n"
   ]
  }
 ],
 "metadata": {
  "kernelspec": {
   "display_name": "cg",
   "language": "python",
   "name": "python3"
  },
  "language_info": {
   "codemirror_mode": {
    "name": "ipython",
    "version": 3
   },
   "file_extension": ".py",
   "mimetype": "text/x-python",
   "name": "python",
   "nbconvert_exporter": "python",
   "pygments_lexer": "ipython3",
   "version": "3.10.12"
  },
  "orig_nbformat": 4
 },
 "nbformat": 4,
 "nbformat_minor": 2
}
