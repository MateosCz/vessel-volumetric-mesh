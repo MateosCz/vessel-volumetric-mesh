{
 "cells": [
  {
   "cell_type": "code",
   "execution_count": 1,
   "metadata": {},
   "outputs": [],
   "source": [
    "import numpy as np\n",
    "from pygel3d import graph\n",
    "from pygel3d import hmesh, gl_display as gl\n",
    "from pygel3d import jupyter_display as jd\n",
    "import pygel3d as py3d\n",
    "from plyfile import PlyData, PlyElement"
   ]
  },
  {
   "cell_type": "code",
   "execution_count": 2,
   "metadata": {},
   "outputs": [],
   "source": [
    "import bpy"
   ]
  },
  {
   "cell_type": "code",
   "execution_count": 3,
   "metadata": {},
   "outputs": [
    {
     "name": "stdout",
     "output_type": "stream",
     "text": [
      "(50177, 3)\n",
      "(50176, 2)\n",
      "(50176,)\n"
     ]
    }
   ],
   "source": [
    "points = np.load('../data/points.npy')\n",
    "edges = np.load('../data/edge_array.npy')\n",
    "radii = np.load('../data/edge_radius.npy')\n",
    "\n",
    "print(points.shape)\n",
    "print(edges.shape)\n",
    "print(radii.shape)\n",
    "\n",
    "with open('skeleton.obj', 'w') as f:\n",
    "    # f.write(f'g default\\n')\n",
    "    for point in points:\n",
    "        f.write(f'n {point[0]} {point[1]} {point[2]}\\n')\n",
    "        \n",
    "    # for edge in edges:\n",
    "    #     f.write(f'l {edge[0]+1} {edge[1]+1}\\n')\n",
    "\n",
    "    for i, edge in enumerate(edges):\n",
    "        radius = radii[i]\n",
    "        # f.write(f'c {edge[0]} {edge[1]} {radius}\\n')\n",
    "        f.write(f'c {edge[0]} {edge[1]}\\n')\n",
    "        \n",
    "    f.close()"
   ]
  },
  {
   "cell_type": "code",
   "execution_count": 4,
   "metadata": {},
   "outputs": [],
   "source": [
    "# tri_mesh = trimesh.Trimesh()\n",
    "# tri_mesh.vertices = points\n",
    "# edges_with_radii = []\n",
    "# for i, edge in enumerate(edges):\n",
    "#     vertex1, vertex2 = edge\n",
    "#     radius = radii[i]\n",
    "#     edges_with_radii.append([vertex1, vertex2, radius])\n",
    "\n",
    "# tri_mesh.lines = edges_with_radii\n",
    "\n",
    "# tri_graph = tri_mesh.export(file_type='obj')\n",
    "# tri_mesh.show()\n",
    "\n",
    "# print(edges.max())\n"
   ]
  },
  {
   "cell_type": "code",
   "execution_count": 5,
   "metadata": {},
   "outputs": [],
   "source": [
    "def edge_radius_to_vertex_radius(edges, edge_radius):\n",
    "    vertex_radius = np.zeros((edges.max()+1,))\n",
    "    for i, edge in enumerate(edges):\n",
    "        vertex_radius[edge[0]] = max(edge_radius[i], vertex_radius[edge[0]])     \n",
    "        vertex_radius[edge[1]] = max(edge_radius[i], vertex_radius[edge[1]])\n",
    "    return vertex_radius\n",
    "\n",
    "\n",
    "def convert_custom_obj_to_standard(input_file, output_file):\n",
    "    with open(input_file, 'r') as input_obj:\n",
    "        lines = input_obj.readlines()\n",
    "\n",
    "    converted_lines = []\n",
    "\n",
    "    for line in lines:\n",
    "        if line.startswith('n '):  # Change 'n' to 'v' for vertex\n",
    "            parts = line.strip().split()\n",
    "            converted_line = f\"v {' '.join(parts[1:])}\\n\"\n",
    "            converted_lines.append(converted_line)\n",
    "        elif line.startswith('c '):  # Change 'c' to 'l' for edges\n",
    "            parts = line.strip().split()\n",
    "            converted_line = f\"l {' '.join(parts[1:])}\\n\"\n",
    "            converted_lines.append(converted_line)\n",
    "\n",
    "    # Reindex the vertex indices to start from 0\n",
    "    vertex_index_offset = 0\n",
    "    for line in converted_lines:\n",
    "        if line.startswith('l '):\n",
    "            parts = line.strip().split()\n",
    "            converted_line = f\"l {' '}\"\n",
    "            for v in parts[1:]:\n",
    "                converted_line += f\"{int(v)+1} \"\n",
    "            converted_line += '\\n'\n",
    "            converted_lines[vertex_index_offset] = converted_line\n",
    "        vertex_index_offset += 1\n",
    "\n",
    "    with open(output_file, 'w') as output_obj:\n",
    "        output_obj.writelines(converted_lines)"
   ]
  },
  {
   "cell_type": "code",
   "execution_count": 6,
   "metadata": {},
   "outputs": [],
   "source": [
    "vertex_radius = edge_radius_to_vertex_radius(edges, radii)/10\n",
    "np.save('vertex_radius.npy', vertex_radius)\n"
   ]
  },
  {
   "cell_type": "code",
   "execution_count": 7,
   "metadata": {},
   "outputs": [],
   "source": [
    "# mesh = bpy.data.meshes.new('skeleton')\n",
    "# mesh.from_pydata(points, edges, [])\n",
    "# mesh.update()\n",
    "# skeleton_object = bpy.data.objects.new('skeleton', mesh)\n",
    "# skeleton_collection = bpy.data.collections.new('skeleton')\n",
    "# bpy.context.scene.collection.children.link(skeleton_collection)\n",
    "# skeleton_collection.objects.link(skeleton_object)\n",
    "\n",
    "\n",
    "\n",
    "# if 'radii' not in mesh.data.attributes:\n",
    "#     mesh.data.attributes.new('radii',0,0)\n",
    "# attibute = mesh.data.attributes['radii']\n",
    "# attibute.data.foreach_set('value', vertex_radius)"
   ]
  },
  {
   "cell_type": "code",
   "execution_count": 8,
   "metadata": {},
   "outputs": [],
   "source": [
    "# with open('skeleton_vradii.obj', 'w') as f:\n",
    "#     for i, radius in enumerate(vertex_radius):\n",
    "#         f.write(f'v {points[i][0]} {points[i][1]} {points[i][2]}\\n')\n",
    "#     for i, edge in enumerate(edges):\n",
    "#         f.write(f'l {edge[0]+1} {edge[1]+1}\\n')\n",
    "#     f.close()"
   ]
  },
  {
   "cell_type": "code",
   "execution_count": 9,
   "metadata": {},
   "outputs": [
    {
     "name": "stdout",
     "output_type": "stream",
     "text": [
      "<pygel3d.graph.Graph object at 0x7f7128a60850>\n",
      "[31.44276726 31.44276726 17.33434249 ...  1.44948413  1.27329233\n",
      "  1.26522435]\n",
      "[[588.         217.         650.        ]\n",
      " [585.184      206.246      641.041     ]\n",
      " [437.314      266.05       394.903     ]\n",
      " ...\n",
      " [182.97035217  88.3454361  228.9609375 ]\n",
      " [303.37478961 471.17907713 416.99790026]\n",
      " [ 69.09300419 397.80529598 561.17693889]]\n"
     ]
    }
   ],
   "source": [
    "\n",
    "g = graph.load(\"./skeleton.obj\")\n",
    "print(g)\n",
    "print(vertex_radius)\n",
    "print(points)\n"
   ]
  },
  {
   "cell_type": "code",
   "execution_count": 10,
   "metadata": {},
   "outputs": [],
   "source": [
    "# skeleton = graph.LS_skeleton(g)"
   ]
  },
  {
   "cell_type": "code",
   "execution_count": 11,
   "metadata": {},
   "outputs": [],
   "source": [
    "# graph.save('../data/skeleton.obj', skeleton)\n",
    "# convert_custom_obj_to_standard('../data/skeleton.obj', '../data/skeleton_standard.obj')"
   ]
  },
  {
   "cell_type": "code",
   "execution_count": 12,
   "metadata": {},
   "outputs": [
    {
     "name": "stdout",
     "output_type": "stream",
     "text": [
      "Jupyter environment detected. Enabling Open3D WebVisualizer.\n",
      "[Open3D INFO] WebRTC GUI backend enabled.\n",
      "[Open3D INFO] WebRTCWindowSystem: HTTP handshake server disabled.\n"
     ]
    },
    {
     "data": {
      "text/plain": [
       "True"
      ]
     },
     "execution_count": 12,
     "metadata": {},
     "output_type": "execute_result"
    }
   ],
   "source": [
    "# generate point cloud\n",
    "\n",
    "import open3d as o3d\n",
    "import open3d.core as o3c\n",
    "\n",
    "pcd = o3d.geometry.PointCloud()\n",
    "pcd.points = o3d.utility.Vector3dVector(points)\n",
    "o3d.io.write_point_cloud(\"../data/pcd.ply\", pcd)"
   ]
  },
  {
   "cell_type": "code",
   "execution_count": 35,
   "metadata": {},
   "outputs": [
    {
     "data": {
      "text/plain": [
       "True"
      ]
     },
     "execution_count": 35,
     "metadata": {},
     "output_type": "execute_result"
    }
   ],
   "source": [
    "pcd_load = o3d.io.read_point_cloud(\"../data/pcd.ply\")\n",
    "pcd_load.colors = o3d.utility.Vector3dVector(np.random.uniform(0, 1, size=(len(points), 3)))\n",
    "voxel_grid = o3d.geometry.VoxelGrid.create_from_point_cloud(pcd_load, voxel_size=20)\n",
    "\n",
    "points_load = np.asarray(pcd_load.points)\n",
    "\n",
    "# o3d.visualization.draw_geometries([pcd_load])\n",
    "o3d.io.write_voxel_grid(\"../data/voxel_grid.ply\", voxel_grid)\n"
   ]
  },
  {
   "cell_type": "code",
   "execution_count": 36,
   "metadata": {},
   "outputs": [
    {
     "name": "stdout",
     "output_type": "stream",
     "text": [
      "[[22 19 19]\n",
      " [22 19 12]\n",
      " [22 16  9]\n",
      " ...\n",
      " [16 19 41]\n",
      " [16 19 18]\n",
      " [16 20 21]]\n"
     ]
    }
   ],
   "source": [
    "voxels = voxel_grid.get_voxels()\n",
    "indices = np.stack(list(vx.grid_index for vx in voxels))\n",
    "print(indices)\n"
   ]
  },
  {
   "cell_type": "code",
   "execution_count": 37,
   "metadata": {},
   "outputs": [],
   "source": [
    "def voxel_grid_from_idx(indices):\n",
    "    voxel_grid = np.zeros((indices.max(axis=0)+1))\n",
    "    for index in indices:\n",
    "        voxel_grid[tuple(index)] = 1\n",
    "    return voxel_grid\n",
    "\n",
    "voxel_grid = voxel_grid_from_idx(indices)"
   ]
  },
  {
   "cell_type": "code",
   "execution_count": 38,
   "metadata": {},
   "outputs": [],
   "source": [
    "iso_mesh = 0\n",
    "iso_mesh = hmesh.volumetric_isocontour(voxel_grid,high_is_inside=True,make_triangles=False)"
   ]
  },
  {
   "cell_type": "code",
   "execution_count": 39,
   "metadata": {},
   "outputs": [],
   "source": [
    "hmesh.save('../data/iso_mesh.obj', iso_mesh)"
   ]
  },
  {
   "cell_type": "code",
   "execution_count": 40,
   "metadata": {},
   "outputs": [],
   "source": [
    "viewer = gl.Viewer()\n",
    "viewer.display(iso_mesh)\n",
    "del viewer"
   ]
  },
  {
   "cell_type": "code",
   "execution_count": 10,
   "metadata": {},
   "outputs": [
    {
     "data": {
      "text/plain": [
       "True"
      ]
     },
     "execution_count": 10,
     "metadata": {},
     "output_type": "execute_result"
    }
   ],
   "source": [
    "# with open('../data/skeleton.obj', 'w') as f:\n",
    "#     # f.write(f'g default\\n')\n",
    "#     for node in skeleton.positions():\n",
    "#         f.write(f'n {node[0]} {node[1]} {node[2]}\\n')\n",
    "        \n",
    "#     # for edge in edges:\n",
    "#     #     f.write(f'l {edge[0]+1} {edge[1]+1}\\n')\n",
    "\n",
    "#     for i, edge in enumerate(edges):\n",
    "#         radius = radii[i]\n",
    "#         # f.write(f'c {edge[0]} {edge[1]} {radius}\\n')\n",
    "#         f.write(f'c {edge[0]} {edge[1]}\\n')\n",
    "        \n",
    "#     f.close()"
   ]
  },
  {
   "cell_type": "code",
   "execution_count": null,
   "metadata": {},
   "outputs": [],
   "source": [
    "# build volume\n"
   ]
  },
  {
   "cell_type": "code",
   "execution_count": 36,
   "metadata": {},
   "outputs": [],
   "source": [
    "# m = graph.to_mesh_cyl(g,1)\n",
    "FEQ_mesh = hmesh.skeleton_to_feq(g,vertex_radius)\n",
    "hmesh.save(\"feq_mesh_true.obj\",FEQ_mesh)"
   ]
  },
  {
   "cell_type": "code",
   "execution_count": 39,
   "metadata": {},
   "outputs": [],
   "source": [
    "FEQ_mesh_t1 = hmesh.skeleton_to_feq(g,vertex_radius*10)\n"
   ]
  },
  {
   "cell_type": "code",
   "execution_count": 40,
   "metadata": {},
   "outputs": [],
   "source": [
    "hmesh.save(\"feq_mesh_true1.obj\",FEQ_mesh_t1)"
   ]
  },
  {
   "cell_type": "code",
   "execution_count": null,
   "metadata": {},
   "outputs": [],
   "source": [
    "FEQ_mesh_001 = hmesh.skeleton_to_feq(g, radii/100)\n",
    "FEQ_mesh_01 = hmesh.skeleton_to_feq(g, radii/10)\n",
    "FEQ_mesh_1 = hmesh.skeleton_to_feq(g, radii)\n",
    "# hmesh.loop_split(m)\n",
    "# hmesh.loop_smooth(m)"
   ]
  },
  {
   "cell_type": "code",
   "execution_count": 21,
   "metadata": {},
   "outputs": [],
   "source": [
    "hmesh.save(\"feq_mesh_scale0.01.obj\", FEQ_mesh_001)\n",
    "hmesh.save(\"feq_mesh_scale0.1.obj\", FEQ_mesh_01)\n",
    "hmesh.save(\"feq_mesh_scale1.obj\", FEQ_mesh_1)"
   ]
  },
  {
   "cell_type": "code",
   "execution_count": null,
   "metadata": {},
   "outputs": [],
   "source": []
  },
  {
   "cell_type": "code",
   "execution_count": 5,
   "metadata": {},
   "outputs": [],
   "source": [
    "viewer = gl.Viewer()\n",
    "viewer.display(m)\n"
   ]
  },
  {
   "cell_type": "code",
   "execution_count": 6,
   "metadata": {},
   "outputs": [],
   "source": [
    "del viewer"
   ]
  },
  {
   "cell_type": "code",
   "execution_count": 7,
   "metadata": {},
   "outputs": [],
   "source": [
    "hmesh.save('mesh_example.obj',m)"
   ]
  }
 ],
 "metadata": {
  "kernelspec": {
   "display_name": "cg",
   "language": "python",
   "name": "python3"
  },
  "language_info": {
   "codemirror_mode": {
    "name": "ipython",
    "version": 3
   },
   "file_extension": ".py",
   "mimetype": "text/x-python",
   "name": "python",
   "nbconvert_exporter": "python",
   "pygments_lexer": "ipython3",
   "version": "3.10.12"
  },
  "orig_nbformat": 4
 },
 "nbformat": 4,
 "nbformat_minor": 2
}
