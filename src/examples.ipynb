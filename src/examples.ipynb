{
 "cells": [
  {
   "cell_type": "code",
   "execution_count": 12,
   "metadata": {},
   "outputs": [
    {
     "name": "stdout",
     "output_type": "stream",
     "text": [
      "Jupyter environment detected. Enabling Open3D WebVisualizer.\n",
      "[Open3D INFO] WebRTC GUI backend enabled.\n",
      "[Open3D INFO] WebRTCWindowSystem: HTTP handshake server disabled.\n"
     ]
    }
   ],
   "source": [
    "import numpy as np\n",
    "from pygel3d import graph\n",
    "from pygel3d import hmesh, gl_display as gl\n",
    "from pygel3d import jupyter_display as jd\n",
    "import pygel3d as py3d\n",
    "from plyfile import PlyData, PlyElement\n",
    "import open3d as o3d\n",
    "import open3d.core as o3c"
   ]
  },
  {
   "cell_type": "markdown",
   "metadata": {},
   "source": [
    "## Generate some examples of meshes with previous method to build a mesh from skeleton\n",
    "\n",
    "### This jupyter note book contains 4 baseline methods\n",
    "- SQM method\n",
    "- FEQ remesh method\n",
    "- Skin Modifier in Blender\n",
    "- Dual contouring based method\n",
    "\n",
    "Our original data are `data/points.npy` which contains points' 3d coordinates, `data/edge_array.npy` which contains edge indexed array, `data/edge_radius.npy` which contains each edges radius, corresponding to the edge indexed array(stored by same order)."
   ]
  },
  {
   "cell_type": "markdown",
   "metadata": {},
   "source": [
    "## Data Preparation\n",
    "\n",
    "In this section we mainly handle the data. We define several functions to manipulate data.\n",
    "\n",
    "\n",
    "Load `.npy` document and define a function write the numpy array data into a pygel3d-style `.obj` file. Note: this custom `.obj` file only for graph."
   ]
  },
  {
   "cell_type": "code",
   "execution_count": 5,
   "metadata": {},
   "outputs": [],
   "source": [
    "points = np.load('../data/points.npy')\n",
    "edges = np.load('../data/edge_array.npy')\n",
    "radii = np.load('../data/edge_radius.npy')\n",
    "\n",
    "# write a .obj file from the points, edges, and radii numpy arrays\n",
    "def write_graph_obj(points, edges, radii, path):\n",
    "    with open(path, 'w') as f:\n",
    "        # f.write(f'g default\\n')\n",
    "        for point in points:\n",
    "            f.write(f'n {point[0]} {point[1]} {point[2]}\\n')\n",
    "            \n",
    "        # for edge in edges:\n",
    "        #     f.write(f'l {edge[0]+1} {edge[1]+1}\\n')\n",
    "\n",
    "        for i, edge in enumerate(edges):\n",
    "            radius = radii[i]\n",
    "            # f.write(f'c {edge[0]} {edge[1]} {radius}\\n')\n",
    "            f.write(f'c {edge[0]} {edge[1]}\\n')\n",
    "            \n",
    "        f.close()"
   ]
  },
  {
   "cell_type": "markdown",
   "metadata": {},
   "source": [
    "- Define a function that use the edge radius array generate each vertex's radius, return an np array of vertex radius.\n",
    "- Define a function that convert the pygel3d-style .obj file to standard .obj file that is readable for Blender."
   ]
  },
  {
   "cell_type": "code",
   "execution_count": 6,
   "metadata": {},
   "outputs": [],
   "source": [
    "def edge_radius_to_vertex_radius(edges, edge_radius):\n",
    "    vertex_radius = np.zeros((edges.max()+1,))\n",
    "    for i, edge in enumerate(edges):\n",
    "        vertex_radius[edge[0]] = max(edge_radius[i], vertex_radius[edge[0]])     \n",
    "        vertex_radius[edge[1]] = max(edge_radius[i], vertex_radius[edge[1]])\n",
    "    return vertex_radius\n",
    "\n",
    "\n",
    "def convert_custom_obj_to_standard(input_file, output_file):\n",
    "    with open(input_file, 'r') as input_obj:\n",
    "        lines = input_obj.readlines()\n",
    "\n",
    "    converted_lines = []\n",
    "\n",
    "    for line in lines:\n",
    "        if line.startswith('n '):  # Change 'n' to 'v' for vertex\n",
    "            parts = line.strip().split()\n",
    "            converted_line = f\"v {' '.join(parts[1:])}\\n\"\n",
    "            converted_lines.append(converted_line)\n",
    "        elif line.startswith('c '):  # Change 'c' to 'l' for edges\n",
    "            parts = line.strip().split()\n",
    "            converted_line = f\"l {' '.join(parts[1:])}\\n\"\n",
    "            converted_lines.append(converted_line)\n",
    "\n",
    "    # Reindex the vertex indices to start from 0\n",
    "    vertex_index_offset = 0\n",
    "    for line in converted_lines:\n",
    "        if line.startswith('l '):\n",
    "            parts = line.strip().split()\n",
    "            converted_line = f\"l {' '}\"\n",
    "            for v in parts[1:]:\n",
    "                converted_line += f\"{int(v)+1} \"\n",
    "            converted_line += '\\n'\n",
    "            converted_lines[vertex_index_offset] = converted_line\n",
    "        vertex_index_offset += 1\n",
    "\n",
    "    with open(output_file, 'w') as output_obj:\n",
    "        output_obj.writelines(converted_lines)"
   ]
  },
  {
   "cell_type": "markdown",
   "metadata": {},
   "source": [
    "## SQM method"
   ]
  },
  {
   "cell_type": "code",
   "execution_count": 7,
   "metadata": {},
   "outputs": [],
   "source": [
    "write_graph_obj(points, edges, radii, \"../data/graph.obj\")\n",
    "g = graph.load(\"../data/graph.obj\")\n",
    "m = graph.to_mesh_cyl(g,1)\n",
    "hmesh.save('../data/mesh_SQM.obj',m)"
   ]
  },
  {
   "cell_type": "markdown",
   "metadata": {},
   "source": [
    "## FEQ method"
   ]
  },
  {
   "cell_type": "code",
   "execution_count": 10,
   "metadata": {},
   "outputs": [],
   "source": [
    "# generate vertex radius from edge radius and save it to vertex_radius.npy\n",
    "vertex_radius = edge_radius_to_vertex_radius(edges, radii)/10\n",
    "np.save('vertex_radius.npy', vertex_radius)\n",
    "\n",
    "# generate feq mesh from vertex radius and save it to feq_mesh.obj\n",
    "FEQ_mesh = hmesh.skeleton_to_feq(g,vertex_radius)\n",
    "hmesh.save(\"../data/feq_mesh.obj\",FEQ_mesh)\n",
    "\n",
    "# generate feq mesh from vertex radius with origin scale and save it to feq_mesh_scale1.obj\n",
    "FEQ_mesh_t1 = hmesh.skeleton_to_feq(g,vertex_radius*10)\n",
    "hmesh.save(\"../data/feq_mesh_scale1.obj\",FEQ_mesh_t1)"
   ]
  },
  {
   "cell_type": "markdown",
   "metadata": {},
   "source": [
    "## Duel contouring based method"
   ]
  },
  {
   "cell_type": "markdown",
   "metadata": {},
   "source": [
    "- Generate mesh only using points information"
   ]
  },
  {
   "cell_type": "code",
   "execution_count": 14,
   "metadata": {},
   "outputs": [],
   "source": [
    "# create numpy array of shape (n, n, n) from list of indices\n",
    "def voxel_grid_from_idx(indices):\n",
    "    voxel_grid = np.zeros((indices.max(axis=0)+1))\n",
    "    for index in indices:\n",
    "        voxel_grid[tuple(index)] = 1\n",
    "    return voxel_grid"
   ]
  },
  {
   "cell_type": "code",
   "execution_count": 13,
   "metadata": {},
   "outputs": [
    {
     "name": "stdout",
     "output_type": "stream",
     "text": [
      "[[ 46  74 150]\n",
      " [ 60   4  56]\n",
      " [ 61  21 143]\n",
      " ...\n",
      " [ 13  34 118]\n",
      " [ 16  70  55]\n",
      " [ 84  22  47]]\n"
     ]
    }
   ],
   "source": [
    "# generate point cloud\n",
    "pcd = o3d.geometry.PointCloud()\n",
    "pcd.points = o3d.utility.Vector3dVector(points)\n",
    "o3d.io.write_point_cloud(\"../data/pcd.ply\", pcd)\n",
    "\n",
    "# load point cloud and create voxel grid\n",
    "pcd_load = o3d.io.read_point_cloud(\"../data/pcd.ply\")\n",
    "pcd_load.colors = o3d.utility.Vector3dVector(np.random.uniform(0, 1, size=(len(points), 3)))\n",
    "voxel_grid = o3d.geometry.VoxelGrid.create_from_point_cloud(pcd_load, voxel_size=5)\n",
    "\n",
    "voxels = voxel_grid.get_voxels()\n",
    "indices = np.stack(list(vx.grid_index for vx in voxels))\n",
    "print(indices)\n",
    "\n",
    "voxel_grid = voxel_grid_from_idx(indices)\n",
    "iso_mesh = 0\n",
    "iso_mesh = hmesh.volumetric_isocontour(voxel_grid,high_is_inside=True,make_triangles=True,tau=0.85)\n",
    "hmesh.save('../data/iso_mesh.obj', iso_mesh)\n"
   ]
  },
  {
   "cell_type": "markdown",
   "metadata": {},
   "source": [
    "- First generate voxel grid from SQM mesh, then create the mesh from voxel grid."
   ]
  },
  {
   "cell_type": "code",
   "execution_count": 17,
   "metadata": {},
   "outputs": [],
   "source": [
    "stick_mesh = hmesh.load(\"../data/mesh_SQM.obj\")\n",
    "hmesh.triangulate(stick_mesh)\n",
    "hmesh.save(\"../data/mesh_SQM_tri.obj\", stick_mesh)\n"
   ]
  },
  {
   "cell_type": "code",
   "execution_count": 18,
   "metadata": {},
   "outputs": [
    {
     "name": "stdout",
     "output_type": "stream",
     "text": [
      "[[ 53  39 221]\n",
      " [126  31  64]\n",
      " [ 71  70  32]\n",
      " ...\n",
      " [ 33  16  90]\n",
      " [ 59  13 130]\n",
      " [ 59  14 130]]\n"
     ]
    }
   ],
   "source": [
    "stick_mesh = o3d.io.read_triangle_mesh(\"../data/mesh_SQM_tri.obj\")\n",
    "voxel_grid = o3d.geometry.VoxelGrid.create_from_triangle_mesh(stick_mesh, 4)\n",
    "o3d.io.write_voxel_grid(\"../data/voxel_grid.ply\", voxel_grid)\n",
    "voxels = voxel_grid.get_voxels()\n",
    "indices = np.stack(list(vx.grid_index for vx in voxels))\n",
    "print(indices)\n",
    "\n",
    "\n",
    "voxel_grid = voxel_grid_from_idx(indices)\n",
    "iso_mesh = 0\n",
    "iso_mesh = hmesh.volumetric_isocontour(voxel_grid,high_is_inside=True,make_triangles=True,tau=0.85)\n",
    "hmesh.save('../data/iso_mesh_from_stick.obj', iso_mesh)"
   ]
  },
  {
   "cell_type": "code",
   "execution_count": 10,
   "metadata": {},
   "outputs": [],
   "source": [
    "# skeleton = graph.LS_skeleton(g)\n",
    "# graph.save('../data/skeleton.obj', skeleton)\n",
    "# convert_custom_obj_to_standard('../data/skeleton.obj', '../data/skeleton_standard.obj')"
   ]
  }
 ],
 "metadata": {
  "kernelspec": {
   "display_name": "cg",
   "language": "python",
   "name": "python3"
  },
  "language_info": {
   "codemirror_mode": {
    "name": "ipython",
    "version": 3
   },
   "file_extension": ".py",
   "mimetype": "text/x-python",
   "name": "python",
   "nbconvert_exporter": "python",
   "pygments_lexer": "ipython3",
   "version": "3.10.12"
  },
  "orig_nbformat": 4
 },
 "nbformat": 4,
 "nbformat_minor": 2
}
