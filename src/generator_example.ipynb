{
 "cells": [
  {
   "cell_type": "code",
   "execution_count": 1,
   "metadata": {},
   "outputs": [],
   "source": [
    "import numpy as np\n",
    "import pymesh"
   ]
  },
  {
   "cell_type": "code",
   "execution_count": 2,
   "metadata": {},
   "outputs": [
    {
     "data": {
      "text/plain": [
       "9.44831448166173"
      ]
     },
     "execution_count": 2,
     "metadata": {},
     "output_type": "execute_result"
    }
   ],
   "source": [
    "points = np.load(\"../data/points.npy\")\n",
    "edges = np.load(\"../data/edge_array.npy\")\n",
    "edge_thickness = np.load(\"../data/edge_radius.npy\")\n",
    "\n",
    "wire_network = pymesh.wires.WireNetwork.create_from_data(points,edges)\n",
    "edge_thickness.min()"
   ]
  },
  {
   "cell_type": "code",
   "execution_count": 3,
   "metadata": {},
   "outputs": [],
   "source": [
    "thickness = edge_thickness"
   ]
  },
  {
   "cell_type": "code",
   "execution_count": 4,
   "metadata": {},
   "outputs": [
    {
     "ename": "RuntimeError",
     "evalue": "Edge 0 is too short: len=14.2773\nIts length needs to be  at least 267.334 to ensure inflation is self-intersection free",
     "output_type": "error",
     "traceback": [
      "\u001b[0;31m---------------------------------------------------------------------------\u001b[0m",
      "\u001b[0;31mRuntimeError\u001b[0m                              Traceback (most recent call last)",
      "Cell \u001b[0;32mIn[4], line 2\u001b[0m\n\u001b[1;32m      1\u001b[0m inflator \u001b[39m=\u001b[39m pymesh\u001b[39m.\u001b[39mwires\u001b[39m.\u001b[39mInflator(wire_network)\n\u001b[0;32m----> 2\u001b[0m inflator\u001b[39m.\u001b[39;49minflate(thickness, per_vertex_thickness\u001b[39m=\u001b[39;49m\u001b[39mFalse\u001b[39;49;00m)\n\u001b[1;32m      3\u001b[0m mesh \u001b[39m=\u001b[39m inflator\u001b[39m.\u001b[39mmesh\n",
      "File \u001b[0;32m/usr/local/lib/python3.10/dist-packages/pymesh2-0.3-py3.10-linux-x86_64.egg/pymesh/wires/Inflator.py:86\u001b[0m, in \u001b[0;36mInflator.inflate\u001b[0;34m(self, thickness, per_vertex_thickness, allow_self_intersection)\u001b[0m\n\u001b[1;32m     83\u001b[0m \u001b[39mself\u001b[39m\u001b[39m.\u001b[39m__setup_subdivision(inflator)\n\u001b[1;32m     84\u001b[0m \u001b[39mself\u001b[39m\u001b[39m.\u001b[39m__setup_profile(inflator)\n\u001b[0;32m---> 86\u001b[0m inflator\u001b[39m.\u001b[39;49minflate()\n\u001b[1;32m     88\u001b[0m \u001b[39mself\u001b[39m\u001b[39m.\u001b[39mmesh_vertices \u001b[39m=\u001b[39m inflator\u001b[39m.\u001b[39mget_vertices()\n\u001b[1;32m     89\u001b[0m \u001b[39mself\u001b[39m\u001b[39m.\u001b[39mmesh_faces \u001b[39m=\u001b[39m inflator\u001b[39m.\u001b[39mget_faces()\n",
      "\u001b[0;31mRuntimeError\u001b[0m: Edge 0 is too short: len=14.2773\nIts length needs to be  at least 267.334 to ensure inflation is self-intersection free"
     ]
    }
   ],
   "source": [
    "inflator = pymesh.wires.Inflator(wire_network)\n",
    "inflator.inflate(thickness, per_vertex_thickness=False)\n",
    "mesh = inflator.mesh"
   ]
  },
  {
   "cell_type": "code",
   "execution_count": null,
   "metadata": {},
   "outputs": [
    {
     "data": {
      "text/plain": [
       "(50176, 2)"
      ]
     },
     "execution_count": 19,
     "metadata": {},
     "output_type": "execute_result"
    }
   ],
   "source": [
    "wire_network.write_to_file(\"test.\")"
   ]
  }
 ],
 "metadata": {
  "kernelspec": {
   "display_name": "Python 3",
   "language": "python",
   "name": "python3"
  },
  "language_info": {
   "codemirror_mode": {
    "name": "ipython",
    "version": 3
   },
   "file_extension": ".py",
   "mimetype": "text/x-python",
   "name": "python",
   "nbconvert_exporter": "python",
   "pygments_lexer": "ipython3",
   "version": "3.10.6"
  },
  "orig_nbformat": 4
 },
 "nbformat": 4,
 "nbformat_minor": 2
}
