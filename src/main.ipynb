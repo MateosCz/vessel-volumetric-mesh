{
 "cells": [
  {
   "cell_type": "code",
   "execution_count": 1,
   "metadata": {
    "ExecuteTime": {
     "end_time": "2023-07-01T23:44:15.839287383Z",
     "start_time": "2023-07-01T23:44:14.298643425Z"
    }
   },
   "outputs": [],
   "source": [
    "import igl\n",
    "import scipy as sp\n",
    "import numpy as np\n",
    "from meshplot import plot, subplot, interact\n",
    "import meshplot as mp\n",
    "from IPython.display import display, HTML\n",
    "mp.jupyter()\n",
    "\n",
    "# run = 0\n"
   ]
  },
  {
   "cell_type": "code",
   "execution_count": 2,
   "metadata": {
    "ExecuteTime": {
     "end_time": "2023-07-01T23:44:24.164313874Z",
     "start_time": "2023-07-01T23:44:24.161043134Z"
    }
   },
   "outputs": [
    {
     "name": "stdout",
     "output_type": "stream",
     "text": [
      "current project's root dir:  /home/zjccharles/b5project/vessel-volumetric-mesh\n"
     ]
    }
   ],
   "source": [
    "import os\n",
    "import sys\n",
    "root_folder = sys.path[0]\n",
    "os.chdir(os.path.dirname(root_folder))\n",
    "print(\"current project's root dir: \", os.getcwd())\n",
    "\n"
   ]
  },
  {
   "cell_type": "code",
   "execution_count": 3,
   "metadata": {},
   "outputs": [],
   "source": [
    "v: np.array\n",
    "f: np.array\n",
    "\n",
    "data = np.load('src/data.npz')\n",
    "v, f, n, fs = data[\"v\"], data[\"f\"], data[\"n\"], data[\"fs\"]\n",
    "v1, f1, v2, f2 = data[\"v1\"], data[\"f1\"], data[\"v2\"], data[\"f2\"]"
   ]
  },
  {
   "cell_type": "code",
   "execution_count": 4,
   "metadata": {},
   "outputs": [
    {
     "data": {
      "application/vnd.jupyter.widget-view+json": {
       "model_id": "39ba4fe4f2fc462383d5fc63299d5f20",
       "version_major": 2,
       "version_minor": 0
      },
      "text/plain": [
       "Renderer(camera=PerspectiveCamera(children=(DirectionalLight(color='white', intensity=0.6, position=(-0.016860…"
      ]
     },
     "metadata": {},
     "output_type": "display_data"
    },
    {
     "data": {
      "text/plain": [
       "<meshplot.Viewer.Viewer at 0x7fea4a2acc40>"
      ]
     },
     "execution_count": 4,
     "metadata": {},
     "output_type": "execute_result"
    },
    {
     "ename": "TraitError",
     "evalue": "The 'target' trait of a DirectionalLight instance expected an Uninitialized or an Object3D, not the str 'IPY_MODEL_10372927-e0bf-4511-94b7-434ccdec3e92'.",
     "output_type": "error",
     "traceback": [
      "\u001b[0;31m---------------------------------------------------------------------------\u001b[0m",
      "\u001b[0;31mTraitError\u001b[0m                                Traceback (most recent call last)",
      "File \u001b[0;32m~/anaconda3/envs/cg/lib/python3.9/site-packages/ipywidgets/widgets/widget.py:766\u001b[0m, in \u001b[0;36mWidget._handle_msg\u001b[0;34m(self, msg)\u001b[0m\n\u001b[1;32m    764\u001b[0m         \u001b[39mif\u001b[39;00m \u001b[39m'\u001b[39m\u001b[39mbuffer_paths\u001b[39m\u001b[39m'\u001b[39m \u001b[39min\u001b[39;00m data:\n\u001b[1;32m    765\u001b[0m             _put_buffers(state, data[\u001b[39m'\u001b[39m\u001b[39mbuffer_paths\u001b[39m\u001b[39m'\u001b[39m], msg[\u001b[39m'\u001b[39m\u001b[39mbuffers\u001b[39m\u001b[39m'\u001b[39m])\n\u001b[0;32m--> 766\u001b[0m         \u001b[39mself\u001b[39;49m\u001b[39m.\u001b[39;49mset_state(state)\n\u001b[1;32m    768\u001b[0m \u001b[39m# Handle a state request.\u001b[39;00m\n\u001b[1;32m    769\u001b[0m \u001b[39melif\u001b[39;00m method \u001b[39m==\u001b[39m \u001b[39m'\u001b[39m\u001b[39mrequest_state\u001b[39m\u001b[39m'\u001b[39m:\n",
      "File \u001b[0;32m~/anaconda3/envs/cg/lib/python3.9/site-packages/ipywidgets/widgets/widget.py:648\u001b[0m, in \u001b[0;36mWidget.set_state\u001b[0;34m(self, sync_data)\u001b[0m\n\u001b[1;32m    645\u001b[0m \u001b[39mif\u001b[39;00m name \u001b[39min\u001b[39;00m \u001b[39mself\u001b[39m\u001b[39m.\u001b[39mkeys:\n\u001b[1;32m    646\u001b[0m     from_json \u001b[39m=\u001b[39m \u001b[39mself\u001b[39m\u001b[39m.\u001b[39mtrait_metadata(name, \u001b[39m'\u001b[39m\u001b[39mfrom_json\u001b[39m\u001b[39m'\u001b[39m,\n\u001b[1;32m    647\u001b[0m                                     \u001b[39mself\u001b[39m\u001b[39m.\u001b[39m_trait_from_json)\n\u001b[0;32m--> 648\u001b[0m     \u001b[39mself\u001b[39;49m\u001b[39m.\u001b[39;49mset_trait(name, from_json(sync_data[name], \u001b[39mself\u001b[39;49m))\n",
      "File \u001b[0;32m~/anaconda3/envs/cg/lib/python3.9/site-packages/traitlets/traitlets.py:1738\u001b[0m, in \u001b[0;36mHasTraits.set_trait\u001b[0;34m(self, name, value)\u001b[0m\n\u001b[1;32m   1736\u001b[0m     \u001b[39mraise\u001b[39;00m TraitError(\u001b[39mf\u001b[39m\u001b[39m\"\u001b[39m\u001b[39mClass \u001b[39m\u001b[39m{\u001b[39;00m\u001b[39mcls\u001b[39m\u001b[39m.\u001b[39m\u001b[39m__name__\u001b[39m\u001b[39m}\u001b[39;00m\u001b[39m does not have a trait named \u001b[39m\u001b[39m{\u001b[39;00mname\u001b[39m}\u001b[39;00m\u001b[39m\"\u001b[39m)\n\u001b[1;32m   1737\u001b[0m \u001b[39melse\u001b[39;00m:\n\u001b[0;32m-> 1738\u001b[0m     \u001b[39mgetattr\u001b[39;49m(\u001b[39mcls\u001b[39;49m, name)\u001b[39m.\u001b[39;49mset(\u001b[39mself\u001b[39;49m, value)\n",
      "File \u001b[0;32m~/anaconda3/envs/cg/lib/python3.9/site-packages/traitlets/traitlets.py:703\u001b[0m, in \u001b[0;36mTraitType.set\u001b[0;34m(self, obj, value)\u001b[0m\n\u001b[1;32m    702\u001b[0m \u001b[39mdef\u001b[39;00m \u001b[39mset\u001b[39m(\u001b[39mself\u001b[39m, obj, value):\n\u001b[0;32m--> 703\u001b[0m     new_value \u001b[39m=\u001b[39m \u001b[39mself\u001b[39;49m\u001b[39m.\u001b[39;49m_validate(obj, value)\n\u001b[1;32m    704\u001b[0m     \u001b[39mtry\u001b[39;00m:\n\u001b[1;32m    705\u001b[0m         old_value \u001b[39m=\u001b[39m obj\u001b[39m.\u001b[39m_trait_values[\u001b[39mself\u001b[39m\u001b[39m.\u001b[39mname]\n",
      "File \u001b[0;32m~/anaconda3/envs/cg/lib/python3.9/site-packages/traitlets/traitlets.py:735\u001b[0m, in \u001b[0;36mTraitType._validate\u001b[0;34m(self, obj, value)\u001b[0m\n\u001b[1;32m    733\u001b[0m     \u001b[39mreturn\u001b[39;00m value\n\u001b[1;32m    734\u001b[0m \u001b[39mif\u001b[39;00m \u001b[39mhasattr\u001b[39m(\u001b[39mself\u001b[39m, \u001b[39m\"\u001b[39m\u001b[39mvalidate\u001b[39m\u001b[39m\"\u001b[39m):\n\u001b[0;32m--> 735\u001b[0m     value \u001b[39m=\u001b[39m \u001b[39mself\u001b[39;49m\u001b[39m.\u001b[39;49mvalidate(obj, value)\n\u001b[1;32m    736\u001b[0m \u001b[39mif\u001b[39;00m obj\u001b[39m.\u001b[39m_cross_validation_lock \u001b[39mis\u001b[39;00m \u001b[39mFalse\u001b[39;00m:\n\u001b[1;32m    737\u001b[0m     value \u001b[39m=\u001b[39m \u001b[39mself\u001b[39m\u001b[39m.\u001b[39m_cross_validate(obj, value)\n",
      "File \u001b[0;32m~/anaconda3/envs/cg/lib/python3.9/site-packages/traitlets/traitlets.py:2302\u001b[0m, in \u001b[0;36mUnion.validate\u001b[0;34m(self, obj, value)\u001b[0m\n\u001b[1;32m   2300\u001b[0m         \u001b[39mexcept\u001b[39;00m TraitError:\n\u001b[1;32m   2301\u001b[0m             \u001b[39mcontinue\u001b[39;00m\n\u001b[0;32m-> 2302\u001b[0m \u001b[39mself\u001b[39;49m\u001b[39m.\u001b[39;49merror(obj, value)\n",
      "File \u001b[0;32m~/anaconda3/envs/cg/lib/python3.9/site-packages/traitlets/traitlets.py:841\u001b[0m, in \u001b[0;36mTraitType.error\u001b[0;34m(self, obj, value, error, info)\u001b[0m\n\u001b[1;32m    835\u001b[0m \u001b[39melse\u001b[39;00m:\n\u001b[1;32m    836\u001b[0m     e \u001b[39m=\u001b[39m \u001b[39m\"\u001b[39m\u001b[39mThe \u001b[39m\u001b[39m'\u001b[39m\u001b[39m{}\u001b[39;00m\u001b[39m'\u001b[39m\u001b[39m trait expected \u001b[39m\u001b[39m{}\u001b[39;00m\u001b[39m, not \u001b[39m\u001b[39m{}\u001b[39;00m\u001b[39m.\u001b[39m\u001b[39m\"\u001b[39m\u001b[39m.\u001b[39mformat(\n\u001b[1;32m    837\u001b[0m         \u001b[39mself\u001b[39m\u001b[39m.\u001b[39mname,\n\u001b[1;32m    838\u001b[0m         \u001b[39mself\u001b[39m\u001b[39m.\u001b[39minfo(),\n\u001b[1;32m    839\u001b[0m         describe(\u001b[39m\"\u001b[39m\u001b[39mthe\u001b[39m\u001b[39m\"\u001b[39m, value),\n\u001b[1;32m    840\u001b[0m     )\n\u001b[0;32m--> 841\u001b[0m \u001b[39mraise\u001b[39;00m TraitError(e)\n",
      "\u001b[0;31mTraitError\u001b[0m: The 'target' trait of a DirectionalLight instance expected an Uninitialized or an Object3D, not the str 'IPY_MODEL_10372927-e0bf-4511-94b7-434ccdec3e92'."
     ]
    }
   ],
   "source": [
    "plot(v)"
   ]
  },
  {
   "cell_type": "code",
   "execution_count": 8,
   "metadata": {
    "ExecuteTime": {
     "end_time": "2023-07-01T23:44:36.682496060Z",
     "start_time": "2023-07-01T23:44:36.509458598Z"
    }
   },
   "outputs": [
    {
     "data": {
      "application/vnd.jupyter.widget-view+json": {
       "model_id": "83bcabc024dd48a7ae6bae839500191a",
       "version_major": 2,
       "version_minor": 0
      },
      "text/plain": [
       "Renderer(camera=PerspectiveCamera(children=(DirectionalLight(color='white', intensity=0.6, position=(322.30337…"
      ]
     },
     "metadata": {},
     "output_type": "display_data"
    },
    {
     "data": {
      "text/plain": [
       "<meshplot.Viewer.Viewer at 0x7fea4b672d30>"
      ]
     },
     "execution_count": 8,
     "metadata": {},
     "output_type": "execute_result"
    },
    {
     "ename": "TraitError",
     "evalue": "The 'target' trait of a DirectionalLight instance expected an Uninitialized or an Object3D, not the str 'IPY_MODEL_57f5cfc2-fbd0-4f0e-9a02-62de4ec5c953'.",
     "output_type": "error",
     "traceback": [
      "\u001b[0;31m---------------------------------------------------------------------------\u001b[0m",
      "\u001b[0;31mTraitError\u001b[0m                                Traceback (most recent call last)",
      "File \u001b[0;32m~/anaconda3/envs/cg/lib/python3.9/site-packages/ipywidgets/widgets/widget.py:766\u001b[0m, in \u001b[0;36mWidget._handle_msg\u001b[0;34m(self, msg)\u001b[0m\n\u001b[1;32m    764\u001b[0m         \u001b[39mif\u001b[39;00m \u001b[39m'\u001b[39m\u001b[39mbuffer_paths\u001b[39m\u001b[39m'\u001b[39m \u001b[39min\u001b[39;00m data:\n\u001b[1;32m    765\u001b[0m             _put_buffers(state, data[\u001b[39m'\u001b[39m\u001b[39mbuffer_paths\u001b[39m\u001b[39m'\u001b[39m], msg[\u001b[39m'\u001b[39m\u001b[39mbuffers\u001b[39m\u001b[39m'\u001b[39m])\n\u001b[0;32m--> 766\u001b[0m         \u001b[39mself\u001b[39;49m\u001b[39m.\u001b[39;49mset_state(state)\n\u001b[1;32m    768\u001b[0m \u001b[39m# Handle a state request.\u001b[39;00m\n\u001b[1;32m    769\u001b[0m \u001b[39melif\u001b[39;00m method \u001b[39m==\u001b[39m \u001b[39m'\u001b[39m\u001b[39mrequest_state\u001b[39m\u001b[39m'\u001b[39m:\n",
      "File \u001b[0;32m~/anaconda3/envs/cg/lib/python3.9/site-packages/ipywidgets/widgets/widget.py:648\u001b[0m, in \u001b[0;36mWidget.set_state\u001b[0;34m(self, sync_data)\u001b[0m\n\u001b[1;32m    645\u001b[0m \u001b[39mif\u001b[39;00m name \u001b[39min\u001b[39;00m \u001b[39mself\u001b[39m\u001b[39m.\u001b[39mkeys:\n\u001b[1;32m    646\u001b[0m     from_json \u001b[39m=\u001b[39m \u001b[39mself\u001b[39m\u001b[39m.\u001b[39mtrait_metadata(name, \u001b[39m'\u001b[39m\u001b[39mfrom_json\u001b[39m\u001b[39m'\u001b[39m,\n\u001b[1;32m    647\u001b[0m                                     \u001b[39mself\u001b[39m\u001b[39m.\u001b[39m_trait_from_json)\n\u001b[0;32m--> 648\u001b[0m     \u001b[39mself\u001b[39;49m\u001b[39m.\u001b[39;49mset_trait(name, from_json(sync_data[name], \u001b[39mself\u001b[39;49m))\n",
      "File \u001b[0;32m~/anaconda3/envs/cg/lib/python3.9/site-packages/traitlets/traitlets.py:1738\u001b[0m, in \u001b[0;36mHasTraits.set_trait\u001b[0;34m(self, name, value)\u001b[0m\n\u001b[1;32m   1736\u001b[0m     \u001b[39mraise\u001b[39;00m TraitError(\u001b[39mf\u001b[39m\u001b[39m\"\u001b[39m\u001b[39mClass \u001b[39m\u001b[39m{\u001b[39;00m\u001b[39mcls\u001b[39m\u001b[39m.\u001b[39m\u001b[39m__name__\u001b[39m\u001b[39m}\u001b[39;00m\u001b[39m does not have a trait named \u001b[39m\u001b[39m{\u001b[39;00mname\u001b[39m}\u001b[39;00m\u001b[39m\"\u001b[39m)\n\u001b[1;32m   1737\u001b[0m \u001b[39melse\u001b[39;00m:\n\u001b[0;32m-> 1738\u001b[0m     \u001b[39mgetattr\u001b[39;49m(\u001b[39mcls\u001b[39;49m, name)\u001b[39m.\u001b[39;49mset(\u001b[39mself\u001b[39;49m, value)\n",
      "File \u001b[0;32m~/anaconda3/envs/cg/lib/python3.9/site-packages/traitlets/traitlets.py:703\u001b[0m, in \u001b[0;36mTraitType.set\u001b[0;34m(self, obj, value)\u001b[0m\n\u001b[1;32m    702\u001b[0m \u001b[39mdef\u001b[39;00m \u001b[39mset\u001b[39m(\u001b[39mself\u001b[39m, obj, value):\n\u001b[0;32m--> 703\u001b[0m     new_value \u001b[39m=\u001b[39m \u001b[39mself\u001b[39;49m\u001b[39m.\u001b[39;49m_validate(obj, value)\n\u001b[1;32m    704\u001b[0m     \u001b[39mtry\u001b[39;00m:\n\u001b[1;32m    705\u001b[0m         old_value \u001b[39m=\u001b[39m obj\u001b[39m.\u001b[39m_trait_values[\u001b[39mself\u001b[39m\u001b[39m.\u001b[39mname]\n",
      "File \u001b[0;32m~/anaconda3/envs/cg/lib/python3.9/site-packages/traitlets/traitlets.py:735\u001b[0m, in \u001b[0;36mTraitType._validate\u001b[0;34m(self, obj, value)\u001b[0m\n\u001b[1;32m    733\u001b[0m     \u001b[39mreturn\u001b[39;00m value\n\u001b[1;32m    734\u001b[0m \u001b[39mif\u001b[39;00m \u001b[39mhasattr\u001b[39m(\u001b[39mself\u001b[39m, \u001b[39m\"\u001b[39m\u001b[39mvalidate\u001b[39m\u001b[39m\"\u001b[39m):\n\u001b[0;32m--> 735\u001b[0m     value \u001b[39m=\u001b[39m \u001b[39mself\u001b[39;49m\u001b[39m.\u001b[39;49mvalidate(obj, value)\n\u001b[1;32m    736\u001b[0m \u001b[39mif\u001b[39;00m obj\u001b[39m.\u001b[39m_cross_validation_lock \u001b[39mis\u001b[39;00m \u001b[39mFalse\u001b[39;00m:\n\u001b[1;32m    737\u001b[0m     value \u001b[39m=\u001b[39m \u001b[39mself\u001b[39m\u001b[39m.\u001b[39m_cross_validate(obj, value)\n",
      "File \u001b[0;32m~/anaconda3/envs/cg/lib/python3.9/site-packages/traitlets/traitlets.py:2302\u001b[0m, in \u001b[0;36mUnion.validate\u001b[0;34m(self, obj, value)\u001b[0m\n\u001b[1;32m   2300\u001b[0m         \u001b[39mexcept\u001b[39;00m TraitError:\n\u001b[1;32m   2301\u001b[0m             \u001b[39mcontinue\u001b[39;00m\n\u001b[0;32m-> 2302\u001b[0m \u001b[39mself\u001b[39;49m\u001b[39m.\u001b[39;49merror(obj, value)\n",
      "File \u001b[0;32m~/anaconda3/envs/cg/lib/python3.9/site-packages/traitlets/traitlets.py:841\u001b[0m, in \u001b[0;36mTraitType.error\u001b[0;34m(self, obj, value, error, info)\u001b[0m\n\u001b[1;32m    835\u001b[0m \u001b[39melse\u001b[39;00m:\n\u001b[1;32m    836\u001b[0m     e \u001b[39m=\u001b[39m \u001b[39m\"\u001b[39m\u001b[39mThe \u001b[39m\u001b[39m'\u001b[39m\u001b[39m{}\u001b[39;00m\u001b[39m'\u001b[39m\u001b[39m trait expected \u001b[39m\u001b[39m{}\u001b[39;00m\u001b[39m, not \u001b[39m\u001b[39m{}\u001b[39;00m\u001b[39m.\u001b[39m\u001b[39m\"\u001b[39m\u001b[39m.\u001b[39mformat(\n\u001b[1;32m    837\u001b[0m         \u001b[39mself\u001b[39m\u001b[39m.\u001b[39mname,\n\u001b[1;32m    838\u001b[0m         \u001b[39mself\u001b[39m\u001b[39m.\u001b[39minfo(),\n\u001b[1;32m    839\u001b[0m         describe(\u001b[39m\"\u001b[39m\u001b[39mthe\u001b[39m\u001b[39m\"\u001b[39m, value),\n\u001b[1;32m    840\u001b[0m     )\n\u001b[0;32m--> 841\u001b[0m \u001b[39mraise\u001b[39;00m TraitError(e)\n",
      "\u001b[0;31mTraitError\u001b[0m: The 'target' trait of a DirectionalLight instance expected an Uninitialized or an Object3D, not the str 'IPY_MODEL_57f5cfc2-fbd0-4f0e-9a02-62de4ec5c953'."
     ]
    }
   ],
   "source": [
    "v: np.array\n",
    "f: np.array\n",
    "points = np.load(\"data/points.npy\")\n",
    "v = points\n",
    "plot(v)"
   ]
  },
  {
   "cell_type": "code",
   "execution_count": 9,
   "metadata": {
    "ExecuteTime": {
     "end_time": "2023-07-01T23:00:27.134382593Z",
     "start_time": "2023-07-01T23:00:27.133821153Z"
    }
   },
   "outputs": [
    {
     "name": "stdout",
     "output_type": "stream",
     "text": [
      "[[    0     1]\n",
      " [    1     9]\n",
      " [    1    12]\n",
      " ...\n",
      " [41632 42140]\n",
      " [41633 50164]\n",
      " [45638 50176]]\n",
      "(50176, 2)\n"
     ]
    }
   ],
   "source": [
    "edge_array = np.load(\"data/edge_array.npy\")\n",
    "edge_radius = np.load(\"data/edge_radius.npy\")\n",
    "print(edge_array)\n",
    "print(edge_array.shape)"
   ]
  },
  {
   "cell_type": "code",
   "execution_count": 13,
   "metadata": {},
   "outputs": [
    {
     "name": "stdout",
     "output_type": "stream",
     "text": [
      "(50176,)\n"
     ]
    }
   ],
   "source": [
    "print(edge_radius.shape)"
   ]
  },
  {
   "cell_type": "code",
   "execution_count": 17,
   "metadata": {},
   "outputs": [
    {
     "data": {
      "application/vnd.jupyter.widget-view+json": {
       "model_id": "b8f533feda4c4814bf0f793c226fc3a0",
       "version_major": 2,
       "version_minor": 0
      },
      "text/plain": [
       "Renderer(camera=PerspectiveCamera(children=(DirectionalLight(color='white', intensity=0.6, position=(322.30337…"
      ]
     },
     "metadata": {},
     "output_type": "display_data"
    },
    {
     "data": {
      "text/plain": [
       "<meshplot.Viewer.Viewer at 0x7fea47e25bb0>"
      ]
     },
     "execution_count": 17,
     "metadata": {},
     "output_type": "execute_result"
    },
    {
     "ename": "TraitError",
     "evalue": "The 'target' trait of a DirectionalLight instance expected an Uninitialized or an Object3D, not the str 'IPY_MODEL_ba5f6fe3-8056-4262-a189-21f8404f2787'.",
     "output_type": "error",
     "traceback": [
      "\u001b[0;31m---------------------------------------------------------------------------\u001b[0m",
      "\u001b[0;31mTraitError\u001b[0m                                Traceback (most recent call last)",
      "File \u001b[0;32m~/anaconda3/envs/cg/lib/python3.9/site-packages/ipywidgets/widgets/widget.py:766\u001b[0m, in \u001b[0;36mWidget._handle_msg\u001b[0;34m(self, msg)\u001b[0m\n\u001b[1;32m    764\u001b[0m         \u001b[39mif\u001b[39;00m \u001b[39m'\u001b[39m\u001b[39mbuffer_paths\u001b[39m\u001b[39m'\u001b[39m \u001b[39min\u001b[39;00m data:\n\u001b[1;32m    765\u001b[0m             _put_buffers(state, data[\u001b[39m'\u001b[39m\u001b[39mbuffer_paths\u001b[39m\u001b[39m'\u001b[39m], msg[\u001b[39m'\u001b[39m\u001b[39mbuffers\u001b[39m\u001b[39m'\u001b[39m])\n\u001b[0;32m--> 766\u001b[0m         \u001b[39mself\u001b[39;49m\u001b[39m.\u001b[39;49mset_state(state)\n\u001b[1;32m    768\u001b[0m \u001b[39m# Handle a state request.\u001b[39;00m\n\u001b[1;32m    769\u001b[0m \u001b[39melif\u001b[39;00m method \u001b[39m==\u001b[39m \u001b[39m'\u001b[39m\u001b[39mrequest_state\u001b[39m\u001b[39m'\u001b[39m:\n",
      "File \u001b[0;32m~/anaconda3/envs/cg/lib/python3.9/site-packages/ipywidgets/widgets/widget.py:648\u001b[0m, in \u001b[0;36mWidget.set_state\u001b[0;34m(self, sync_data)\u001b[0m\n\u001b[1;32m    645\u001b[0m \u001b[39mif\u001b[39;00m name \u001b[39min\u001b[39;00m \u001b[39mself\u001b[39m\u001b[39m.\u001b[39mkeys:\n\u001b[1;32m    646\u001b[0m     from_json \u001b[39m=\u001b[39m \u001b[39mself\u001b[39m\u001b[39m.\u001b[39mtrait_metadata(name, \u001b[39m'\u001b[39m\u001b[39mfrom_json\u001b[39m\u001b[39m'\u001b[39m,\n\u001b[1;32m    647\u001b[0m                                     \u001b[39mself\u001b[39m\u001b[39m.\u001b[39m_trait_from_json)\n\u001b[0;32m--> 648\u001b[0m     \u001b[39mself\u001b[39;49m\u001b[39m.\u001b[39;49mset_trait(name, from_json(sync_data[name], \u001b[39mself\u001b[39;49m))\n",
      "File \u001b[0;32m~/anaconda3/envs/cg/lib/python3.9/site-packages/traitlets/traitlets.py:1738\u001b[0m, in \u001b[0;36mHasTraits.set_trait\u001b[0;34m(self, name, value)\u001b[0m\n\u001b[1;32m   1736\u001b[0m     \u001b[39mraise\u001b[39;00m TraitError(\u001b[39mf\u001b[39m\u001b[39m\"\u001b[39m\u001b[39mClass \u001b[39m\u001b[39m{\u001b[39;00m\u001b[39mcls\u001b[39m\u001b[39m.\u001b[39m\u001b[39m__name__\u001b[39m\u001b[39m}\u001b[39;00m\u001b[39m does not have a trait named \u001b[39m\u001b[39m{\u001b[39;00mname\u001b[39m}\u001b[39;00m\u001b[39m\"\u001b[39m)\n\u001b[1;32m   1737\u001b[0m \u001b[39melse\u001b[39;00m:\n\u001b[0;32m-> 1738\u001b[0m     \u001b[39mgetattr\u001b[39;49m(\u001b[39mcls\u001b[39;49m, name)\u001b[39m.\u001b[39;49mset(\u001b[39mself\u001b[39;49m, value)\n",
      "File \u001b[0;32m~/anaconda3/envs/cg/lib/python3.9/site-packages/traitlets/traitlets.py:703\u001b[0m, in \u001b[0;36mTraitType.set\u001b[0;34m(self, obj, value)\u001b[0m\n\u001b[1;32m    702\u001b[0m \u001b[39mdef\u001b[39;00m \u001b[39mset\u001b[39m(\u001b[39mself\u001b[39m, obj, value):\n\u001b[0;32m--> 703\u001b[0m     new_value \u001b[39m=\u001b[39m \u001b[39mself\u001b[39;49m\u001b[39m.\u001b[39;49m_validate(obj, value)\n\u001b[1;32m    704\u001b[0m     \u001b[39mtry\u001b[39;00m:\n\u001b[1;32m    705\u001b[0m         old_value \u001b[39m=\u001b[39m obj\u001b[39m.\u001b[39m_trait_values[\u001b[39mself\u001b[39m\u001b[39m.\u001b[39mname]\n",
      "File \u001b[0;32m~/anaconda3/envs/cg/lib/python3.9/site-packages/traitlets/traitlets.py:735\u001b[0m, in \u001b[0;36mTraitType._validate\u001b[0;34m(self, obj, value)\u001b[0m\n\u001b[1;32m    733\u001b[0m     \u001b[39mreturn\u001b[39;00m value\n\u001b[1;32m    734\u001b[0m \u001b[39mif\u001b[39;00m \u001b[39mhasattr\u001b[39m(\u001b[39mself\u001b[39m, \u001b[39m\"\u001b[39m\u001b[39mvalidate\u001b[39m\u001b[39m\"\u001b[39m):\n\u001b[0;32m--> 735\u001b[0m     value \u001b[39m=\u001b[39m \u001b[39mself\u001b[39;49m\u001b[39m.\u001b[39;49mvalidate(obj, value)\n\u001b[1;32m    736\u001b[0m \u001b[39mif\u001b[39;00m obj\u001b[39m.\u001b[39m_cross_validation_lock \u001b[39mis\u001b[39;00m \u001b[39mFalse\u001b[39;00m:\n\u001b[1;32m    737\u001b[0m     value \u001b[39m=\u001b[39m \u001b[39mself\u001b[39m\u001b[39m.\u001b[39m_cross_validate(obj, value)\n",
      "File \u001b[0;32m~/anaconda3/envs/cg/lib/python3.9/site-packages/traitlets/traitlets.py:2302\u001b[0m, in \u001b[0;36mUnion.validate\u001b[0;34m(self, obj, value)\u001b[0m\n\u001b[1;32m   2300\u001b[0m         \u001b[39mexcept\u001b[39;00m TraitError:\n\u001b[1;32m   2301\u001b[0m             \u001b[39mcontinue\u001b[39;00m\n\u001b[0;32m-> 2302\u001b[0m \u001b[39mself\u001b[39;49m\u001b[39m.\u001b[39;49merror(obj, value)\n",
      "File \u001b[0;32m~/anaconda3/envs/cg/lib/python3.9/site-packages/traitlets/traitlets.py:841\u001b[0m, in \u001b[0;36mTraitType.error\u001b[0;34m(self, obj, value, error, info)\u001b[0m\n\u001b[1;32m    835\u001b[0m \u001b[39melse\u001b[39;00m:\n\u001b[1;32m    836\u001b[0m     e \u001b[39m=\u001b[39m \u001b[39m\"\u001b[39m\u001b[39mThe \u001b[39m\u001b[39m'\u001b[39m\u001b[39m{}\u001b[39;00m\u001b[39m'\u001b[39m\u001b[39m trait expected \u001b[39m\u001b[39m{}\u001b[39;00m\u001b[39m, not \u001b[39m\u001b[39m{}\u001b[39;00m\u001b[39m.\u001b[39m\u001b[39m\"\u001b[39m\u001b[39m.\u001b[39mformat(\n\u001b[1;32m    837\u001b[0m         \u001b[39mself\u001b[39m\u001b[39m.\u001b[39mname,\n\u001b[1;32m    838\u001b[0m         \u001b[39mself\u001b[39m\u001b[39m.\u001b[39minfo(),\n\u001b[1;32m    839\u001b[0m         describe(\u001b[39m\"\u001b[39m\u001b[39mthe\u001b[39m\u001b[39m\"\u001b[39m, value),\n\u001b[1;32m    840\u001b[0m     )\n\u001b[0;32m--> 841\u001b[0m \u001b[39mraise\u001b[39;00m TraitError(e)\n",
      "\u001b[0;31mTraitError\u001b[0m: The 'target' trait of a DirectionalLight instance expected an Uninitialized or an Object3D, not the str 'IPY_MODEL_ba5f6fe3-8056-4262-a189-21f8404f2787'."
     ]
    }
   ],
   "source": [
    "p = plot(points)\n",
    "p.add_edges(points, edge_array)\n",
    "p"
   ]
  }
 ],
 "metadata": {
  "kernelspec": {
   "display_name": "Python 3 (ipykernel)",
   "language": "python",
   "name": "python3"
  },
  "language_info": {
   "codemirror_mode": {
    "name": "ipython",
    "version": 3
   },
   "file_extension": ".py",
   "mimetype": "text/x-python",
   "name": "python",
   "nbconvert_exporter": "python",
   "pygments_lexer": "ipython3",
   "version": "3.9.16"
  }
 },
 "nbformat": 4,
 "nbformat_minor": 1
}
